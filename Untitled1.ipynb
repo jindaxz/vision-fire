{
 "cells": [
  {
   "cell_type": "code",
   "execution_count": 8,
   "id": "3305f466-9230-4a31-9c30-8c71f050d0d6",
   "metadata": {},
   "outputs": [
    {
     "name": "stdout",
     "output_type": "stream",
     "text": [
      "Submitted batch job 41939332\n"
     ]
    }
   ],
   "source": [
    "!sbatch auto2024.bash"
   ]
  },
  {
   "cell_type": "code",
   "execution_count": 19,
   "id": "366e5ea2-5767-4f1a-a4a5-693b1e5a7c23",
   "metadata": {},
   "outputs": [
    {
     "name": "stdout",
     "output_type": "stream",
     "text": [
      "Submitted batch job 41969076\n"
     ]
    }
   ],
   "source": [
    "!sbatch auto_yolo.bash"
   ]
  },
  {
   "cell_type": "code",
   "execution_count": 24,
   "id": "47a680b5-c1db-4ccd-ae78-05901eb2aad2",
   "metadata": {},
   "outputs": [
    {
     "name": "stdout",
     "output_type": "stream",
     "text": [
      "Submitted batch job 41928825\n"
     ]
    }
   ],
   "source": [
    "!sbatch auto_inference.bash"
   ]
  },
  {
   "cell_type": "code",
   "execution_count": 18,
   "id": "aeaa2dca",
   "metadata": {
    "tags": []
   },
   "outputs": [],
   "source": [
    "!scancel 41969075"
   ]
  },
  {
   "cell_type": "code",
   "execution_count": 12,
   "id": "ee38ccfa",
   "metadata": {
    "tags": []
   },
   "outputs": [],
   "source": [
    "rm -rf mmdetection/work_dirs/custom-faster-rcnn_r50_fpn_1x_coco-cbam-log-muti"
   ]
  },
  {
   "cell_type": "code",
   "execution_count": 22,
   "id": "6853a961",
   "metadata": {
    "tags": []
   },
   "outputs": [
    {
     "data": {
      "text/plain": [
       "'/work/van-speech-nlp/jindaznb/j-vis'"
      ]
     },
     "execution_count": 22,
     "metadata": {},
     "output_type": "execute_result"
    }
   ],
   "source": [
    "pwd"
   ]
  },
  {
   "cell_type": "code",
   "execution_count": 15,
   "id": "9326679b",
   "metadata": {
    "tags": []
   },
   "outputs": [
    {
     "name": "stdout",
     "output_type": "stream",
     "text": [
      "Removed file: 41967333.error\n",
      "Removed file: 41967333.output\n",
      "Removed file: 41967993.error\n",
      "Removed file: 41967993.output\n"
     ]
    }
   ],
   "source": [
    "import os\n",
    "\n",
    "def remove_files_with_prefix(prefix):\n",
    "    # Get the list of files in the current directory\n",
    "    files = os.listdir('.')\n",
    "    \n",
    "    # Iterate over the files and remove those with the specified prefix\n",
    "    for file in files:\n",
    "        if file.startswith(prefix):\n",
    "            os.remove(file)\n",
    "            print(f\"Removed file: {file}\")\n",
    "\n",
    "# Example usage: Remove files with the prefix \"example_\"\n",
    "remove_files_with_prefix(\"419\")"
   ]
  },
  {
   "cell_type": "code",
   "execution_count": 16,
   "id": "043463d9",
   "metadata": {
    "tags": []
   },
   "outputs": [
    {
     "name": "stdout",
     "output_type": "stream",
     "text": [
      "             JOBID PARTITION     NAME     USER ST       TIME  NODES NODELIST(REASON)\n",
      "          41966582       gpu sys/dash zhang.ji  R    4:03:57      1 c2172\n",
      "          41966776     short sys/dash zhang.ji  R    3:36:24      1 c0211\n"
     ]
    }
   ],
   "source": [
    "!squeue -u zhang.jinda1"
   ]
  },
  {
   "cell_type": "code",
   "execution_count": 11,
   "id": "73ebd226",
   "metadata": {},
   "outputs": [
    {
     "name": "stdout",
     "output_type": "stream",
     "text": [
      "The color space of the image is: RGB\n"
     ]
    }
   ],
   "source": [
    "from PIL import Image\n",
    "\n",
    "def get_color_space(image_path):\n",
    "    try:\n",
    "        with Image.open(image_path) as img:\n",
    "            mode = img.mode\n",
    "            return mode\n",
    "    except Exception as e:\n",
    "        return str(e)\n",
    "\n",
    "# Replace 'your_image.jpg' with the actual path to your JPEG image\n",
    "image_path = 'Forestfire2024-1/train/__XAipv8jDpg_jpg.rf.fb7f112e399a5fdaba59fc830a9e21ae.jpg'\n",
    "color_space = get_color_space(image_path)\n",
    "\n",
    "if color_space:\n",
    "    print(f\"The color space of the image is: {color_space}\")\n",
    "else:\n",
    "    print(\"Failed to determine the color space. Please check the image path or format.\")"
   ]
  },
  {
   "cell_type": "code",
   "execution_count": 13,
   "id": "232c99b7",
   "metadata": {
    "tags": []
   },
   "outputs": [
    {
     "name": "stdout",
     "output_type": "stream",
     "text": [
      "The color space of the image is: RGB\n"
     ]
    }
   ],
   "source": [
    "from PIL import Image\n",
    "\n",
    "def get_color_space(image_path):\n",
    "    try:\n",
    "        with Image.open(image_path) as img:\n",
    "            mode = img.mode\n",
    "            return mode\n",
    "    except Exception as e:\n",
    "        return str(e)\n",
    "\n",
    "# Replace 'your_image.jpg' with the actual path to your JPEG image\n",
    "image_path = 'Forestfire2024-1-lab/train/__XAipv8jDpg_jpg.rf.fb7f112e399a5fdaba59fc830a9e21ae.jpg'\n",
    "color_space = get_color_space(image_path)\n",
    "\n",
    "if color_space:\n",
    "    print(f\"The color space of the image is: {color_space}\")\n",
    "else:\n",
    "    print(\"Failed to determine the color space. Please check the image path or format.\")"
   ]
  },
  {
   "cell_type": "code",
   "execution_count": 1,
   "id": "49d8af2a",
   "metadata": {},
   "outputs": [
    {
     "name": "stdout",
     "output_type": "stream",
     "text": [
      "\u001b[33mWARNING: Package(s) not found: mmdet\u001b[0m\u001b[33m\n",
      "\u001b[0m"
     ]
    }
   ],
   "source": [
    "!pip show mmdet"
   ]
  },
  {
   "cell_type": "code",
   "execution_count": 2,
   "id": "3747824d-8e20-4dc3-afab-64a2509e4ee1",
   "metadata": {},
   "outputs": [
    {
     "name": "stdout",
     "output_type": "stream",
     "text": [
      "/bin/bash: mim: command not found\n"
     ]
    }
   ],
   "source": [
    "!mim install mmengine"
   ]
  },
  {
   "cell_type": "code",
   "execution_count": null,
   "id": "79922b51-2cd8-49dc-a5c4-53423098044f",
   "metadata": {},
   "outputs": [],
   "source": [
    "!pip install mmcv-full==1.3.13 -f https://download.openmmlab.com/mmcv/dist/cu111/torch1.9.0/index.html"
   ]
  },
  {
   "cell_type": "code",
   "execution_count": 2,
   "id": "4c19af8a-ccfd-4cb7-be85-0096c42334f3",
   "metadata": {},
   "outputs": [
    {
     "name": "stdout",
     "output_type": "stream",
     "text": [
      "/work/van-speech-nlp/jindaznb/j-vis/supervision\n"
     ]
    }
   ],
   "source": [
    "cd supervision"
   ]
  },
  {
   "cell_type": "code",
   "execution_count": 6,
   "id": "529d81b4-82a4-4831-8be9-f42e18d43e1e",
   "metadata": {},
   "outputs": [
    {
     "name": "stdout",
     "output_type": "stream",
     "text": [
      "Obtaining file:///work/van-speech-nlp/jindaznb/j-vis/supervision\n",
      "  Installing build dependencies ... \u001b[?25ldone\n",
      "\u001b[?25h  Checking if build backend supports build_editable ... \u001b[?25ldone\n",
      "\u001b[?25h  Getting requirements to build editable ... \u001b[?25ldone\n",
      "\u001b[?25h  Preparing editable metadata (pyproject.toml) ... \u001b[?25ldone\n",
      "\u001b[?25hRequirement already satisfied: defusedxml<0.8.0,>=0.7.1 in /work/van-speech-nlp/jindaznb/venv/lib/python3.8/site-packages (from supervision==0.18.0rc4) (0.7.1)\n",
      "Requirement already satisfied: matplotlib>=3.6.0 in /work/van-speech-nlp/jindaznb/venv/lib/python3.8/site-packages (from supervision==0.18.0rc4) (3.7.2)\n",
      "Requirement already satisfied: numpy>=1.21.2 in /work/van-speech-nlp/jindaznb/venv/lib/python3.8/site-packages (from supervision==0.18.0rc4) (1.24.3)\n",
      "Requirement already satisfied: opencv-python-headless>=4.5.5.64 in /work/van-speech-nlp/jindaznb/venv/lib/python3.8/site-packages (from supervision==0.18.0rc4) (4.8.0.74)\n",
      "Requirement already satisfied: pyyaml>=5.3 in /work/van-speech-nlp/jindaznb/venv/lib/python3.8/site-packages (from supervision==0.18.0rc4) (6.0.1)\n",
      "Collecting scipy==1.10.0 (from supervision==0.18.0rc4)\n",
      "  Downloading scipy-1.10.0-cp38-cp38-manylinux_2_17_x86_64.manylinux2014_x86_64.whl.metadata (58 kB)\n",
      "\u001b[2K     \u001b[90m━━━━━━━━━━━━━━━━━━━━━━━━━━━━━━━━━━━━━━━\u001b[0m \u001b[32m58.9/58.9 kB\u001b[0m \u001b[31m686.4 kB/s\u001b[0m eta \u001b[36m0:00:00\u001b[0m \u001b[36m0:00:01\u001b[0m\n",
      "\u001b[?25hRequirement already satisfied: contourpy>=1.0.1 in /work/van-speech-nlp/jindaznb/venv/lib/python3.8/site-packages (from matplotlib>=3.6.0->supervision==0.18.0rc4) (1.0.5)\n",
      "Requirement already satisfied: cycler>=0.10 in /work/van-speech-nlp/jindaznb/venv/lib/python3.8/site-packages (from matplotlib>=3.6.0->supervision==0.18.0rc4) (0.11.0)\n",
      "Requirement already satisfied: fonttools>=4.22.0 in /work/van-speech-nlp/jindaznb/venv/lib/python3.8/site-packages (from matplotlib>=3.6.0->supervision==0.18.0rc4) (4.25.0)\n",
      "Requirement already satisfied: kiwisolver>=1.0.1 in /work/van-speech-nlp/jindaznb/venv/lib/python3.8/site-packages (from matplotlib>=3.6.0->supervision==0.18.0rc4) (1.4.4)\n",
      "Requirement already satisfied: packaging>=20.0 in /work/van-speech-nlp/jindaznb/venv/lib/python3.8/site-packages (from matplotlib>=3.6.0->supervision==0.18.0rc4) (23.2)\n",
      "Requirement already satisfied: pillow>=6.2.0 in /work/van-speech-nlp/jindaznb/venv/lib/python3.8/site-packages (from matplotlib>=3.6.0->supervision==0.18.0rc4) (10.2.0)\n",
      "Requirement already satisfied: pyparsing<3.1,>=2.3.1 in /work/van-speech-nlp/jindaznb/venv/lib/python3.8/site-packages (from matplotlib>=3.6.0->supervision==0.18.0rc4) (3.0.9)\n",
      "Requirement already satisfied: python-dateutil>=2.7 in /work/van-speech-nlp/jindaznb/venv/lib/python3.8/site-packages (from matplotlib>=3.6.0->supervision==0.18.0rc4) (2.8.2)\n",
      "Requirement already satisfied: importlib-resources>=3.2.0 in /work/van-speech-nlp/jindaznb/venv/lib/python3.8/site-packages (from matplotlib>=3.6.0->supervision==0.18.0rc4) (6.1.1)\n",
      "Requirement already satisfied: zipp>=3.1.0 in /work/van-speech-nlp/jindaznb/venv/lib/python3.8/site-packages (from importlib-resources>=3.2.0->matplotlib>=3.6.0->supervision==0.18.0rc4) (3.17.0)\n",
      "Requirement already satisfied: six>=1.5 in /work/van-speech-nlp/jindaznb/venv/lib/python3.8/site-packages (from python-dateutil>=2.7->matplotlib>=3.6.0->supervision==0.18.0rc4) (1.16.0)\n",
      "Downloading scipy-1.10.0-cp38-cp38-manylinux_2_17_x86_64.manylinux2014_x86_64.whl (34.5 MB)\n",
      "\u001b[2K   \u001b[90m━━━━━━━━━━━━━━━━━━━━━━━━━━━━━━━━━━━━━━━━\u001b[0m \u001b[32m34.5/34.5 MB\u001b[0m \u001b[31m37.6 MB/s\u001b[0m eta \u001b[36m0:00:00\u001b[0m:00:01\u001b[0m00:01\u001b[0m\n",
      "\u001b[?25hBuilding wheels for collected packages: supervision\n",
      "  Building editable for supervision (pyproject.toml) ... \u001b[?25ldone\n",
      "\u001b[?25h  Created wheel for supervision: filename=supervision-0.18.0rc4-py3-none-any.whl size=5767 sha256=2f9c9ea11ec20c4a399e9803433b4bf75071b859715e924a11843f8d505ac44d\n",
      "  Stored in directory: /tmp/pip-ephem-wheel-cache-eaw5lavj/wheels/43/06/21/fcd35b6a790a179ec3518e512c40225dd12b0647c610be702c\n",
      "Successfully built supervision\n",
      "Installing collected packages: scipy, supervision\n",
      "  Attempting uninstall: scipy\n",
      "    Found existing installation: scipy 1.10.1\n",
      "    Uninstalling scipy-1.10.1:\n",
      "      Successfully uninstalled scipy-1.10.1\n",
      "\u001b[31mERROR: pip's dependency resolver does not currently take into account all the packages that are installed. This behaviour is the source of the following dependency conflicts.\n",
      "gensim 4.3.0 requires FuzzyTM>=0.4.0, which is not installed.\u001b[0m\u001b[31m\n",
      "\u001b[0mSuccessfully installed scipy-1.10.0 supervision-0.18.0rc4\n",
      "Note: you may need to restart the kernel to use updated packages.\n"
     ]
    }
   ],
   "source": [
    "pip install -e \".\""
   ]
  },
  {
   "cell_type": "code",
   "execution_count": null,
   "id": "c3a81925-356b-4afd-87ea-89ed336e30e4",
   "metadata": {},
   "outputs": [],
   "source": [
    "ls"
   ]
  },
  {
   "cell_type": "code",
   "execution_count": 64,
   "id": "9126b1ba-c6e7-4229-9eda-5b272abfa9d0",
   "metadata": {
    "scrolled": true
   },
   "outputs": [
    {
     "name": "stdout",
     "output_type": "stream",
     "text": [
      "Looking in links: https://download.openmmlab.com/mmcv/dist/cu117/torch2.0.0/index.html\n",
      "Collecting mmcv>=2.0.0\n",
      "  Downloading https://download.openmmlab.com/mmcv/dist/cu117/torch2.0.0/mmcv-2.1.0-cp38-cp38-manylinux1_x86_64.whl (98.5 MB)\n",
      "\u001b[2K     \u001b[90m━━━━━━━━━━━━━━━━━━━━━━━━━━━━━━━━━━━━━━━━\u001b[0m \u001b[32m98.5/98.5 MB\u001b[0m \u001b[31m6.4 MB/s\u001b[0m eta \u001b[36m0:00:00\u001b[0m00:01\u001b[0m00:01\u001b[0m\n",
      "\u001b[?25hRequirement already satisfied: addict in /work/van-speech-nlp/jindaznb/venv/lib/python3.8/site-packages (from mmcv>=2.0.0) (2.4.0)\n",
      "Requirement already satisfied: mmengine>=0.3.0 in /work/van-speech-nlp/jindaznb/venv/lib/python3.8/site-packages (from mmcv>=2.0.0) (0.10.3)\n",
      "Requirement already satisfied: numpy in /work/van-speech-nlp/jindaznb/venv/lib/python3.8/site-packages (from mmcv>=2.0.0) (1.24.3)\n",
      "Requirement already satisfied: packaging in /work/van-speech-nlp/jindaznb/venv/lib/python3.8/site-packages (from mmcv>=2.0.0) (23.2)\n",
      "Requirement already satisfied: Pillow in /work/van-speech-nlp/jindaznb/venv/lib/python3.8/site-packages (from mmcv>=2.0.0) (10.2.0)\n",
      "Requirement already satisfied: pyyaml in /work/van-speech-nlp/jindaznb/venv/lib/python3.8/site-packages (from mmcv>=2.0.0) (6.0.1)\n",
      "Requirement already satisfied: yapf in /work/van-speech-nlp/jindaznb/venv/lib/python3.8/site-packages (from mmcv>=2.0.0) (0.40.2)\n",
      "Requirement already satisfied: opencv-python>=3 in /work/van-speech-nlp/jindaznb/venv/lib/python3.8/site-packages (from mmcv>=2.0.0) (4.9.0.80)\n",
      "Requirement already satisfied: matplotlib in /work/van-speech-nlp/jindaznb/venv/lib/python3.8/site-packages (from mmengine>=0.3.0->mmcv>=2.0.0) (3.7.2)\n",
      "Requirement already satisfied: rich in /work/van-speech-nlp/jindaznb/venv/lib/python3.8/site-packages (from mmengine>=0.3.0->mmcv>=2.0.0) (13.4.2)\n",
      "Requirement already satisfied: termcolor in /work/van-speech-nlp/jindaznb/venv/lib/python3.8/site-packages (from mmengine>=0.3.0->mmcv>=2.0.0) (2.4.0)\n",
      "Requirement already satisfied: importlib-metadata>=6.6.0 in /work/van-speech-nlp/jindaznb/venv/lib/python3.8/site-packages (from yapf->mmcv>=2.0.0) (7.0.1)\n",
      "Requirement already satisfied: platformdirs>=3.5.1 in /work/van-speech-nlp/jindaznb/venv/lib/python3.8/site-packages (from yapf->mmcv>=2.0.0) (3.10.0)\n",
      "Requirement already satisfied: tomli>=2.0.1 in /work/van-speech-nlp/jindaznb/venv/lib/python3.8/site-packages (from yapf->mmcv>=2.0.0) (2.0.1)\n",
      "Requirement already satisfied: zipp>=0.5 in /work/van-speech-nlp/jindaznb/venv/lib/python3.8/site-packages (from importlib-metadata>=6.6.0->yapf->mmcv>=2.0.0) (3.17.0)\n",
      "Requirement already satisfied: contourpy>=1.0.1 in /work/van-speech-nlp/jindaznb/venv/lib/python3.8/site-packages (from matplotlib->mmengine>=0.3.0->mmcv>=2.0.0) (1.0.5)\n",
      "Requirement already satisfied: cycler>=0.10 in /work/van-speech-nlp/jindaznb/venv/lib/python3.8/site-packages (from matplotlib->mmengine>=0.3.0->mmcv>=2.0.0) (0.10.0)\n",
      "Requirement already satisfied: fonttools>=4.22.0 in /work/van-speech-nlp/jindaznb/venv/lib/python3.8/site-packages (from matplotlib->mmengine>=0.3.0->mmcv>=2.0.0) (4.25.0)\n",
      "Requirement already satisfied: kiwisolver>=1.0.1 in /work/van-speech-nlp/jindaznb/venv/lib/python3.8/site-packages (from matplotlib->mmengine>=0.3.0->mmcv>=2.0.0) (1.4.4)\n",
      "Requirement already satisfied: pyparsing<3.1,>=2.3.1 in /work/van-speech-nlp/jindaznb/venv/lib/python3.8/site-packages (from matplotlib->mmengine>=0.3.0->mmcv>=2.0.0) (3.0.9)\n",
      "Requirement already satisfied: python-dateutil>=2.7 in /work/van-speech-nlp/jindaznb/venv/lib/python3.8/site-packages (from matplotlib->mmengine>=0.3.0->mmcv>=2.0.0) (2.8.2)\n",
      "Requirement already satisfied: importlib-resources>=3.2.0 in /work/van-speech-nlp/jindaznb/venv/lib/python3.8/site-packages (from matplotlib->mmengine>=0.3.0->mmcv>=2.0.0) (6.1.1)\n",
      "Requirement already satisfied: markdown-it-py>=2.2.0 in /work/van-speech-nlp/jindaznb/venv/lib/python3.8/site-packages (from rich->mmengine>=0.3.0->mmcv>=2.0.0) (2.2.0)\n",
      "Requirement already satisfied: pygments<3.0.0,>=2.13.0 in /work/van-speech-nlp/jindaznb/venv/lib/python3.8/site-packages (from rich->mmengine>=0.3.0->mmcv>=2.0.0) (2.15.1)\n",
      "Requirement already satisfied: typing-extensions<5.0,>=4.0.0 in /work/van-speech-nlp/jindaznb/venv/lib/python3.8/site-packages (from rich->mmengine>=0.3.0->mmcv>=2.0.0) (4.9.0)\n",
      "Requirement already satisfied: six in /work/van-speech-nlp/jindaznb/venv/lib/python3.8/site-packages (from cycler>=0.10->matplotlib->mmengine>=0.3.0->mmcv>=2.0.0) (1.16.0)\n",
      "Requirement already satisfied: mdurl~=0.1 in /work/van-speech-nlp/jindaznb/venv/lib/python3.8/site-packages (from markdown-it-py>=2.2.0->rich->mmengine>=0.3.0->mmcv>=2.0.0) (0.1.0)\n",
      "Installing collected packages: mmcv\n",
      "Successfully installed mmcv-2.1.0\n"
     ]
    }
   ],
   "source": [
    "!mim install \"mmcv>=2.0.0\""
   ]
  },
  {
   "cell_type": "code",
   "execution_count": 63,
   "id": "7c640547-30e2-4c02-9dda-eb1ebd32dc38",
   "metadata": {},
   "outputs": [
    {
     "name": "stdout",
     "output_type": "stream",
     "text": [
      "Found existing installation: mmcv 2.1.0\n",
      "Uninstalling mmcv-2.1.0:\n",
      "  Successfully uninstalled mmcv-2.1.0\n"
     ]
    }
   ],
   "source": [
    "!pip uninstall -y mmcv"
   ]
  },
  {
   "cell_type": "code",
   "execution_count": 59,
   "id": "4323b017-25ee-4ede-b815-38617a39ebcd",
   "metadata": {},
   "outputs": [
    {
     "name": "stdout",
     "output_type": "stream",
     "text": [
      "Looking in links: https://download.openmmlab.com/mmcv/dist/cu117/torch2.0.0/index.html\n",
      "Collecting git+https://github.com/open-mmlab/mmcv.git@6299bc02bde35f96e0b57a6cc94ed0fda177c478\n",
      "  Cloning https://github.com/open-mmlab/mmcv.git (to revision 6299bc02bde35f96e0b57a6cc94ed0fda177c478) to /tmp/pip-req-build-8t0skqc5\n",
      "  Running command git clone --filter=blob:none --quiet https://github.com/open-mmlab/mmcv.git /tmp/pip-req-build-8t0skqc5\n",
      "  Running command git rev-parse -q --verify 'sha^6299bc02bde35f96e0b57a6cc94ed0fda177c478'\n",
      "  Running command git fetch -q https://github.com/open-mmlab/mmcv.git 6299bc02bde35f96e0b57a6cc94ed0fda177c478\n",
      "  Running command git checkout -q 6299bc02bde35f96e0b57a6cc94ed0fda177c478\n",
      "  Resolved https://github.com/open-mmlab/mmcv.git to commit 6299bc02bde35f96e0b57a6cc94ed0fda177c478\n",
      "  Preparing metadata (setup.py) ... \u001b[?25ldone\n",
      "\u001b[?25hRequirement already satisfied: addict in /work/van-speech-nlp/jindaznb/venv/lib/python3.8/site-packages (from mmcv==2.0.1) (2.4.0)\n",
      "Requirement already satisfied: mmengine>=0.3.0 in /work/van-speech-nlp/jindaznb/venv/lib/python3.8/site-packages (from mmcv==2.0.1) (0.10.3)\n",
      "Requirement already satisfied: numpy in /work/van-speech-nlp/jindaznb/venv/lib/python3.8/site-packages (from mmcv==2.0.1) (1.24.3)\n",
      "Requirement already satisfied: packaging in /work/van-speech-nlp/jindaznb/venv/lib/python3.8/site-packages (from mmcv==2.0.1) (23.2)\n",
      "Requirement already satisfied: Pillow in /work/van-speech-nlp/jindaznb/venv/lib/python3.8/site-packages (from mmcv==2.0.1) (10.2.0)\n",
      "Requirement already satisfied: pyyaml in /work/van-speech-nlp/jindaznb/venv/lib/python3.8/site-packages (from mmcv==2.0.1) (6.0.1)\n",
      "Requirement already satisfied: yapf in /work/van-speech-nlp/jindaznb/venv/lib/python3.8/site-packages (from mmcv==2.0.1) (0.40.2)\n",
      "Requirement already satisfied: matplotlib in /work/van-speech-nlp/jindaznb/venv/lib/python3.8/site-packages (from mmengine>=0.3.0->mmcv==2.0.1) (3.7.2)\n",
      "Requirement already satisfied: rich in /work/van-speech-nlp/jindaznb/venv/lib/python3.8/site-packages (from mmengine>=0.3.0->mmcv==2.0.1) (13.4.2)\n",
      "Requirement already satisfied: termcolor in /work/van-speech-nlp/jindaznb/venv/lib/python3.8/site-packages (from mmengine>=0.3.0->mmcv==2.0.1) (2.4.0)\n",
      "Requirement already satisfied: opencv-python>=3 in /work/van-speech-nlp/jindaznb/venv/lib/python3.8/site-packages (from mmengine>=0.3.0->mmcv==2.0.1) (4.9.0.80)\n",
      "Requirement already satisfied: importlib-metadata>=6.6.0 in /work/van-speech-nlp/jindaznb/venv/lib/python3.8/site-packages (from yapf->mmcv==2.0.1) (7.0.1)\n",
      "Requirement already satisfied: platformdirs>=3.5.1 in /work/van-speech-nlp/jindaznb/venv/lib/python3.8/site-packages (from yapf->mmcv==2.0.1) (3.10.0)\n",
      "Requirement already satisfied: tomli>=2.0.1 in /work/van-speech-nlp/jindaznb/venv/lib/python3.8/site-packages (from yapf->mmcv==2.0.1) (2.0.1)\n",
      "Requirement already satisfied: zipp>=0.5 in /work/van-speech-nlp/jindaznb/venv/lib/python3.8/site-packages (from importlib-metadata>=6.6.0->yapf->mmcv==2.0.1) (3.17.0)\n",
      "Requirement already satisfied: contourpy>=1.0.1 in /work/van-speech-nlp/jindaznb/venv/lib/python3.8/site-packages (from matplotlib->mmengine>=0.3.0->mmcv==2.0.1) (1.0.5)\n",
      "Requirement already satisfied: cycler>=0.10 in /work/van-speech-nlp/jindaznb/venv/lib/python3.8/site-packages (from matplotlib->mmengine>=0.3.0->mmcv==2.0.1) (0.10.0)\n",
      "Requirement already satisfied: fonttools>=4.22.0 in /work/van-speech-nlp/jindaznb/venv/lib/python3.8/site-packages (from matplotlib->mmengine>=0.3.0->mmcv==2.0.1) (4.25.0)\n",
      "Requirement already satisfied: kiwisolver>=1.0.1 in /work/van-speech-nlp/jindaznb/venv/lib/python3.8/site-packages (from matplotlib->mmengine>=0.3.0->mmcv==2.0.1) (1.4.4)\n",
      "Requirement already satisfied: pyparsing<3.1,>=2.3.1 in /work/van-speech-nlp/jindaznb/venv/lib/python3.8/site-packages (from matplotlib->mmengine>=0.3.0->mmcv==2.0.1) (3.0.9)\n",
      "Requirement already satisfied: python-dateutil>=2.7 in /work/van-speech-nlp/jindaznb/venv/lib/python3.8/site-packages (from matplotlib->mmengine>=0.3.0->mmcv==2.0.1) (2.8.2)\n",
      "Requirement already satisfied: importlib-resources>=3.2.0 in /work/van-speech-nlp/jindaznb/venv/lib/python3.8/site-packages (from matplotlib->mmengine>=0.3.0->mmcv==2.0.1) (6.1.1)\n",
      "Requirement already satisfied: markdown-it-py>=2.2.0 in /work/van-speech-nlp/jindaznb/venv/lib/python3.8/site-packages (from rich->mmengine>=0.3.0->mmcv==2.0.1) (2.2.0)\n",
      "Requirement already satisfied: pygments<3.0.0,>=2.13.0 in /work/van-speech-nlp/jindaznb/venv/lib/python3.8/site-packages (from rich->mmengine>=0.3.0->mmcv==2.0.1) (2.15.1)\n",
      "Requirement already satisfied: typing-extensions<5.0,>=4.0.0 in /work/van-speech-nlp/jindaznb/venv/lib/python3.8/site-packages (from rich->mmengine>=0.3.0->mmcv==2.0.1) (4.9.0)\n",
      "Requirement already satisfied: six in /work/van-speech-nlp/jindaznb/venv/lib/python3.8/site-packages (from cycler>=0.10->matplotlib->mmengine>=0.3.0->mmcv==2.0.1) (1.16.0)\n",
      "Requirement already satisfied: mdurl~=0.1 in /work/van-speech-nlp/jindaznb/venv/lib/python3.8/site-packages (from markdown-it-py>=2.2.0->rich->mmengine>=0.3.0->mmcv==2.0.1) (0.1.0)\n",
      "Building wheels for collected packages: mmcv\n",
      "  Building wheel for mmcv (setup.py) ... \u001b[?25l/^C\n",
      "\u001b[?25canceled\n",
      "\u001b[31mERROR: Operation cancelled by user\u001b[0m\u001b[31m\n",
      "\u001b[0m"
     ]
    }
   ],
   "source": [
    "!mim install \"git+https://github.com/open-mmlab/mmcv.git@6299bc02bde35f96e0b57a6cc94ed0fda177c478\""
   ]
  },
  {
   "cell_type": "code",
   "execution_count": 61,
   "id": "2de1317c-8294-4f73-bb9f-374b316802b4",
   "metadata": {},
   "outputs": [
    {
     "name": "stdout",
     "output_type": "stream",
     "text": [
      "\n"
     ]
    }
   ],
   "source": [
    "print()"
   ]
  },
  {
   "cell_type": "code",
   "execution_count": 60,
   "id": "f41049a1-d7e2-4fe0-8b8d-d90008684849",
   "metadata": {},
   "outputs": [
    {
     "name": "stdout",
     "output_type": "stream",
     "text": [
      "Name: mmcv\n",
      "Version: 2.1.0\n",
      "Summary: OpenMMLab Computer Vision Foundation\n",
      "Home-page: https://github.com/open-mmlab/mmcv\n",
      "Author: MMCV Contributors\n",
      "Author-email: openmmlab@gmail.com\n",
      "License: UNKNOWN\n",
      "Location: /work/van-speech-nlp/jindaznb/venv/lib/python3.8/site-packages\n",
      "Requires: addict, mmengine, numpy, packaging, Pillow, pyyaml, yapf\n",
      "Required-by: \n"
     ]
    }
   ],
   "source": [
    "!pip show mmcv"
   ]
  },
  {
   "cell_type": "code",
   "execution_count": 62,
   "id": "61c0da0a-1d31-446a-a4b5-801dc79a006b",
   "metadata": {},
   "outputs": [
    {
     "name": "stdout",
     "output_type": "stream",
     "text": [
      "Requirement already satisfied: torch in /work/van-speech-nlp/jindaznb/venv/lib/python3.8/site-packages (2.0.0)\n",
      "Requirement already satisfied: filelock in /work/van-speech-nlp/jindaznb/venv/lib/python3.8/site-packages (from torch) (3.13.1)\n",
      "Requirement already satisfied: typing-extensions in /work/van-speech-nlp/jindaznb/venv/lib/python3.8/site-packages (from torch) (4.9.0)\n",
      "Requirement already satisfied: sympy in /work/van-speech-nlp/jindaznb/venv/lib/python3.8/site-packages (from torch) (1.12)\n",
      "Requirement already satisfied: networkx in /work/van-speech-nlp/jindaznb/venv/lib/python3.8/site-packages (from torch) (3.1)\n",
      "Requirement already satisfied: jinja2 in /work/van-speech-nlp/jindaznb/venv/lib/python3.8/site-packages (from torch) (3.1.3)\n",
      "Requirement already satisfied: nvidia-cuda-nvrtc-cu11==11.7.99 in /work/van-speech-nlp/jindaznb/venv/lib/python3.8/site-packages (from torch) (11.7.99)\n",
      "Requirement already satisfied: nvidia-cuda-runtime-cu11==11.7.99 in /work/van-speech-nlp/jindaznb/venv/lib/python3.8/site-packages (from torch) (11.7.99)\n",
      "Requirement already satisfied: nvidia-cuda-cupti-cu11==11.7.101 in /work/van-speech-nlp/jindaznb/venv/lib/python3.8/site-packages (from torch) (11.7.101)\n",
      "Requirement already satisfied: nvidia-cudnn-cu11==8.5.0.96 in /work/van-speech-nlp/jindaznb/venv/lib/python3.8/site-packages (from torch) (8.5.0.96)\n",
      "Requirement already satisfied: nvidia-cublas-cu11==11.10.3.66 in /work/van-speech-nlp/jindaznb/venv/lib/python3.8/site-packages (from torch) (11.10.3.66)\n",
      "Requirement already satisfied: nvidia-cufft-cu11==10.9.0.58 in /work/van-speech-nlp/jindaznb/venv/lib/python3.8/site-packages (from torch) (10.9.0.58)\n",
      "Requirement already satisfied: nvidia-curand-cu11==10.2.10.91 in /work/van-speech-nlp/jindaznb/venv/lib/python3.8/site-packages (from torch) (10.2.10.91)\n",
      "Requirement already satisfied: nvidia-cusolver-cu11==11.4.0.1 in /work/van-speech-nlp/jindaznb/venv/lib/python3.8/site-packages (from torch) (11.4.0.1)\n",
      "Requirement already satisfied: nvidia-cusparse-cu11==11.7.4.91 in /work/van-speech-nlp/jindaznb/venv/lib/python3.8/site-packages (from torch) (11.7.4.91)\n",
      "Requirement already satisfied: nvidia-nccl-cu11==2.14.3 in /work/van-speech-nlp/jindaznb/venv/lib/python3.8/site-packages (from torch) (2.14.3)\n",
      "Requirement already satisfied: nvidia-nvtx-cu11==11.7.91 in /work/van-speech-nlp/jindaznb/venv/lib/python3.8/site-packages (from torch) (11.7.91)\n",
      "Requirement already satisfied: triton==2.0.0 in /work/van-speech-nlp/jindaznb/venv/lib/python3.8/site-packages (from torch) (2.0.0)\n",
      "Requirement already satisfied: setuptools in /work/van-speech-nlp/jindaznb/venv/lib/python3.8/site-packages (from nvidia-cublas-cu11==11.10.3.66->torch) (60.2.0)\n",
      "Requirement already satisfied: wheel in /work/van-speech-nlp/jindaznb/venv/lib/python3.8/site-packages (from nvidia-cublas-cu11==11.10.3.66->torch) (0.41.2)\n",
      "Requirement already satisfied: cmake in /work/van-speech-nlp/jindaznb/venv/lib/python3.8/site-packages (from triton==2.0.0->torch) (3.29.0.1)\n",
      "Requirement already satisfied: lit in /work/van-speech-nlp/jindaznb/venv/lib/python3.8/site-packages (from triton==2.0.0->torch) (18.1.2)\n",
      "Requirement already satisfied: MarkupSafe>=2.0 in /work/van-speech-nlp/jindaznb/venv/lib/python3.8/site-packages (from jinja2->torch) (2.1.3)\n",
      "Requirement already satisfied: mpmath>=0.19 in /work/van-speech-nlp/jindaznb/venv/lib/python3.8/site-packages (from sympy->torch) (1.3.0)\n"
     ]
    }
   ],
   "source": [
    "!pip install torch"
   ]
  },
  {
   "cell_type": "code",
   "execution_count": null,
   "id": "f6c3a4b9-161e-4106-ad42-3e884b916808",
   "metadata": {},
   "outputs": [],
   "source": [
    "!python anygpt/src/infer/cli_infer_base_model.py \\\n",
    "--model-name-or-path \"path/to/AnyGPT-7B-base\" \\\n",
    "--image-tokenizer-path 'path/to/model' \\\n",
    "--speech-tokenizer-path \"path/to/model\" \\\n",
    "--speech-tokenizer-config \"path/to/config\" \\\n",
    "--soundstorm-path \"path/to/model\" \\\n",
    "--output-dir \"infer_output/base\" "
   ]
  }
 ],
 "metadata": {
  "kernelspec": {
   "display_name": "Python 3 (ipykernel)",
   "language": "python",
   "name": "python3"
  },
  "language_info": {
   "codemirror_mode": {
    "name": "ipython",
    "version": 3
   },
   "file_extension": ".py",
   "mimetype": "text/x-python",
   "name": "python",
   "nbconvert_exporter": "python",
   "pygments_lexer": "ipython3",
   "version": "3.8.19"
  }
 },
 "nbformat": 4,
 "nbformat_minor": 5
}
