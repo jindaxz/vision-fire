{
 "cells": [
  {
   "cell_type": "code",
   "execution_count": 9,
   "id": "5e7f751d-02dc-4a9f-8855-4b2a6ada9624",
   "metadata": {},
   "outputs": [
    {
     "name": "stdout",
     "output_type": "stream",
     "text": [
      "Submitted batch job 41374282\n"
     ]
    }
   ],
   "source": [
    "!sbatch auto.bash"
   ]
  },
  {
   "cell_type": "code",
   "execution_count": 6,
   "id": "c8adf906-1462-4ee9-be09-1eeebba54404",
   "metadata": {
    "tags": []
   },
   "outputs": [],
   "source": [
    "!scancel 41367707"
   ]
  },
  {
   "cell_type": "code",
   "execution_count": 10,
   "id": "a8d4e2a5-da7a-42d9-899e-6eb92a33cf14",
   "metadata": {
    "tags": []
   },
   "outputs": [
    {
     "name": "stdout",
     "output_type": "stream",
     "text": [
      "Removed file: 41367718.error\n",
      "Removed file: 41367718.output\n"
     ]
    }
   ],
   "source": [
    "import os\n",
    "\n",
    "def remove_files_with_prefix(prefix):\n",
    "    # Get the list of files in the current directory\n",
    "    files = os.listdir('.')\n",
    "    \n",
    "    # Iterate over the files and remove those with the specified prefix\n",
    "    for file in files:\n",
    "        if file.startswith(prefix):\n",
    "            os.remove(file)\n",
    "            print(f\"Removed file: {file}\")\n",
    "\n",
    "# Example usage: Remove files with the prefix \"example_\"\n",
    "remove_files_with_prefix(\"41367718\")"
   ]
  },
  {
   "cell_type": "code",
   "execution_count": 14,
   "id": "dc46c660-defa-4f16-91c1-376fdd3c83b5",
   "metadata": {
    "tags": []
   },
   "outputs": [
    {
     "name": "stdout",
     "output_type": "stream",
     "text": [
      "             JOBID PARTITION     NAME     USER ST       TIME  NODES NODELIST(REASON)\n",
      "          41372733       gpu auto.bas zhang.ji PD       0:00      1 (Priority)\n",
      "          41374196       gpu auto.bas zhang.ji PD       0:00      1 (Priority)\n",
      "          41374242       gpu auto.bas zhang.ji PD       0:00      1 (Priority)\n",
      "          41374282       gpu auto.bas zhang.ji  R      24:40      1 d1005\n",
      "          41372621       gpu sys/dash zhang.ji  R    2:47:00      1 c2167\n",
      "          41372624     short sys/dash zhang.ji  R    2:46:33      1 c0245\n"
     ]
    }
   ],
   "source": [
    "!squeue -u zhang.jinda1"
   ]
  },
  {
   "cell_type": "code",
   "execution_count": 3,
   "id": "f1bf8df9-2f33-42e3-82f0-ddded4e9aa89",
   "metadata": {
    "tags": []
   },
   "outputs": [
    {
     "name": "stdout",
     "output_type": "stream",
     "text": [
      "HOSTNAMES           GRES                \n",
      "c2160               gpu:k40m:1          \n",
      "c2162               gpu:k40m:1          \n",
      "c2163               gpu:k40m:1          \n",
      "c2164               gpu:k40m:1          \n",
      "c2165               gpu:k40m:1          \n",
      "c2166               gpu:k40m:1          \n",
      "c2167               gpu:k40m:1          \n",
      "c2168               gpu:k40m:1          \n",
      "c2169               gpu:k40m:1          \n",
      "c2170               gpu:k40m:1          \n",
      "c2171               gpu:k40m:1          \n",
      "c2172               gpu:k40m:1          \n",
      "c2173               gpu:k40m:1          \n",
      "c2174               gpu:k40m:1          \n",
      "c2175               gpu:k40m:1          \n",
      "c2176               gpu:k80:8(S:0-1)    \n",
      "c2177               gpu:k80:8(S:0-1)    \n",
      "c2178               gpu:k80:8(S:0-1)    \n",
      "c2179               gpu:k80:8(S:0-1)    \n",
      "c2180               gpu:k80:7(S:0-1)    \n",
      "c2181               gpu:k80:8(S:0-1)    \n",
      "c2182               gpu:k80:8(S:0-1)    \n",
      "c2183               gpu:k80:8(S:0-1)    \n",
      "c2184               gpu:p100:4          \n",
      "c2185               gpu:p100:4(S:0-1)   \n",
      "c2186               gpu:p100:4(S:0-1)   \n",
      "c2187               gpu:p100:4(S:0-1)   \n",
      "c2188               gpu:p100:4          \n",
      "c2189               gpu:p100:4(S:0-1)   \n",
      "c2190               gpu:p100:4(S:0-1)   \n",
      "c2191               gpu:p100:4(S:0-1)   \n",
      "c2192               gpu:p100:4(S:0-1)   \n",
      "c2193               gpu:p100:4(S:0-1)   \n",
      "c2194               gpu:p100:4(S:0-1)   \n",
      "c2195               gpu:p100:4(S:0-1)   \n",
      "c2204               gpu:v100-pcie:2(S:0-\n",
      "c2205               gpu:v100-pcie:2(S:0-\n",
      "c2206               gpu:v100-pcie:2(S:0-\n",
      "c2207               gpu:v100-pcie:2(S:0-\n",
      "d1002               gpu:v100-sxm2:4(S:0-\n",
      "d1003               gpu:v100-sxm2:4(S:0-\n",
      "d1004               gpu:v100-sxm2:4(S:0-\n",
      "d1005               gpu:t4:4(S:0-1)     \n",
      "d1006               gpu:v100-sxm2:4     \n",
      "d1007               gpu:v100-sxm2:4(S:0-\n",
      "d1008               gpu:v100-sxm2:4(S:0-\n",
      "d1009               gpu:v100-sxm2:4(S:0-\n",
      "d1010               gpu:v100-sxm2:4(S:0-\n",
      "d1011               gpu:v100-sxm2:4(S:0-\n",
      "d1012               gpu:v100-sxm2:4(S:0-\n",
      "d1013               gpu:v100-sxm2:3(S:0-\n",
      "d1014               gpu:v100-sxm2:4     \n",
      "d1015               gpu:v100-sxm2:4(S:0-\n",
      "d1016               gpu:v100-sxm2:4(S:0-\n",
      "d1017               gpu:v100-sxm2:4(S:0-\n",
      "d1018               gpu:v100-sxm2:4(S:0-\n",
      "d1019               gpu:v100-sxm2:4(S:0-\n",
      "d1020               gpu:v100-sxm2:4     \n",
      "d1021               gpu:v100-sxm2:4(S:0-\n",
      "d1022               gpu:v100-sxm2:4(S:0-\n",
      "d1024               gpu:v100-sxm2:4(S:0-\n",
      "d1025               gpu:t4:4(S:0-1)     \n",
      "d1026               gpu:a100:4          \n",
      "d1027               gpu:v100-sxm2:4(S:0-\n",
      "d1028               gpu:a100:4          \n",
      "d1029               gpu:a100:4          \n",
      "\n"
     ]
    }
   ],
   "source": [
    "import subprocess\n",
    "\n",
    "# Run sinfo command to get the node information\n",
    "output = subprocess.check_output([\"sinfo\", \"--Node\", \"--Format=NodeHost,Gres\"]).decode()\n",
    "\n",
    "# Split the output into lines\n",
    "lines = output.split(\"\\n\")\n",
    "\n",
    "# Filter out the lines with \"(null)\" GRES\n",
    "filtered_lines = [line for line in lines if \"(null)\" not in line]\n",
    "\n",
    "# Print the filtered lines\n",
    "for line in filtered_lines:\n",
    "    print(line)"
   ]
  },
  {
   "cell_type": "code",
   "execution_count": 11,
   "id": "c74131f9-5642-459e-aa62-bca1d90f8ad6",
   "metadata": {},
   "outputs": [
    {
     "name": "stdout",
     "output_type": "stream",
     "text": [
      "The color space of the image is: RGB\n"
     ]
    }
   ],
   "source": [
    "from PIL import Image\n",
    "\n",
    "def get_color_space(image_path):\n",
    "    try:\n",
    "        with Image.open(image_path) as img:\n",
    "            mode = img.mode\n",
    "            return mode\n",
    "    except Exception as e:\n",
    "        return str(e)\n",
    "\n",
    "# Replace 'your_image.jpg' with the actual path to your JPEG image\n",
    "image_path = 'Forestfire2024-1/train/__XAipv8jDpg_jpg.rf.fb7f112e399a5fdaba59fc830a9e21ae.jpg'\n",
    "color_space = get_color_space(image_path)\n",
    "\n",
    "if color_space:\n",
    "    print(f\"The color space of the image is: {color_space}\")\n",
    "else:\n",
    "    print(\"Failed to determine the color space. Please check the image path or format.\")"
   ]
  },
  {
   "cell_type": "code",
   "execution_count": 13,
   "id": "5d36868f-e53f-4d28-ae80-940284dc2168",
   "metadata": {
    "tags": []
   },
   "outputs": [
    {
     "name": "stdout",
     "output_type": "stream",
     "text": [
      "The color space of the image is: RGB\n"
     ]
    }
   ],
   "source": [
    "from PIL import Image\n",
    "\n",
    "def get_color_space(image_path):\n",
    "    try:\n",
    "        with Image.open(image_path) as img:\n",
    "            mode = img.mode\n",
    "            return mode\n",
    "    except Exception as e:\n",
    "        return str(e)\n",
    "\n",
    "# Replace 'your_image.jpg' with the actual path to your JPEG image\n",
    "image_path = 'Forestfire2024-1-lab/train/__XAipv8jDpg_jpg.rf.fb7f112e399a5fdaba59fc830a9e21ae.jpg'\n",
    "color_space = get_color_space(image_path)\n",
    "\n",
    "if color_space:\n",
    "    print(f\"The color space of the image is: {color_space}\")\n",
    "else:\n",
    "    print(\"Failed to determine the color space. Please check the image path or format.\")"
   ]
  },
  {
   "cell_type": "code",
   "execution_count": null,
   "id": "dc0d3b9d-7fb4-4b6f-8bd1-ccdb48bdd4c2",
   "metadata": {},
   "outputs": [],
   "source": []
  }
 ],
 "metadata": {
  "kernelspec": {
   "display_name": "Python 3 (ipykernel)",
   "language": "python",
   "name": "python3"
  },
  "language_info": {
   "codemirror_mode": {
    "name": "ipython",
    "version": 3
   },
   "file_extension": ".py",
   "mimetype": "text/x-python",
   "name": "python",
   "nbconvert_exporter": "python",
   "pygments_lexer": "ipython3",
   "version": "3.10.13"
  }
 },
 "nbformat": 4,
 "nbformat_minor": 5
}
