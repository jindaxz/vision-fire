{
 "cells": [
  {
   "cell_type": "code",
   "execution_count": 3,
   "id": "1d21c154-5bfa-43fb-b357-81d70d5e7871",
   "metadata": {
    "tags": []
   },
   "outputs": [
    {
     "name": "stdout",
     "output_type": "stream",
     "text": [
      "Ultralytics YOLOv8.1.2 🚀 Python-3.10.13 torch-2.1.2+cu121 CUDA:0 (NVIDIA A100-SXM4-80GB, 81050MiB)\n",
      "Setup complete ✅ (64 CPUs, 503.4 GB RAM, 5.3/19.5 GB disk)\n"
     ]
    }
   ],
   "source": [
    "# step 1: install yolov8\n",
    "# %pip install ultralytics\n",
    "import ultralytics\n",
    "ultralytics.checks()"
   ]
  },
  {
   "cell_type": "code",
   "execution_count": 2,
   "id": "ca31ddec-abd6-407b-be6b-92d12608e5e6",
   "metadata": {
    "tags": []
   },
   "outputs": [
    {
     "name": "stdout",
     "output_type": "stream",
     "text": [
      "\n"
     ]
    }
   ],
   "source": [
    "print()"
   ]
  },
  {
   "cell_type": "code",
   "execution_count": 2,
   "id": "76369fe7-32fd-463d-81e2-38f576222872",
   "metadata": {},
   "outputs": [
    {
     "name": "stdout",
     "output_type": "stream",
     "text": [
      "\n",
      "image 1/29 /home/jinda/Desktop/j-vis/23submission/0428_ForestFire/ForestFire2023-5/test/images/-0UHnjg7w6P_jpg.rf.ab573c6b69e49b9b794cafaa3c40b20f.jpg: 1024x1024 6 Alive Trees, 50.3ms\n",
      "image 2/29 /home/jinda/Desktop/j-vis/23submission/0428_ForestFire/ForestFire2023-5/test/images/-_yeAvl5YMH_jpg.rf.5c511e2b1eb0d54d4195f504efd561f9.jpg: 1024x1024 18 Alive Trees, 3 Dead Trees, 11 Debriss, 50.2ms\n",
      "image 3/29 /home/jinda/Desktop/j-vis/23submission/0428_ForestFire/ForestFire2023-5/test/images/0AEOk1Wzbp1_jpg.rf.c421481555469b2c872dbf69ed922144.jpg: 1024x1024 30 Alive Trees, 8 Dead Trees, 6 Debriss, 49.9ms\n",
      "image 4/29 /home/jinda/Desktop/j-vis/23submission/0428_ForestFire/ForestFire2023-5/test/images/7O5fx94TIw_jpg.rf.9bbbb7b8608abd55d92760b6e77e002b.jpg: 1024x1024 18 Alive Trees, 7 Debriss, 50.0ms\n",
      "image 5/29 /home/jinda/Desktop/j-vis/23submission/0428_ForestFire/ForestFire2023-5/test/images/AeRvllbBTi_jpg.rf.5486035f4ea3376d0911ffff074b586b.jpg: 1024x1024 64 Alive Trees, 9 Dead Trees, 2 Debriss, 49.9ms\n",
      "image 6/29 /home/jinda/Desktop/j-vis/23submission/0428_ForestFire/ForestFire2023-5/test/images/AhmHM0YdoL_jpg.rf.51f486a6911d856078adce546c335846.jpg: 1024x1024 38 Alive Trees, 48 Beetle-Fire Trees, 6 Dead Trees, 5 Debriss, 50.1ms\n",
      "image 7/29 /home/jinda/Desktop/j-vis/23submission/0428_ForestFire/ForestFire2023-5/test/images/GTQtqmmI-UK_jpg.rf.cb7fcd4061f734c59eddb7fc18021994.jpg: 1024x1024 24 Alive Trees, 9 Debriss, 49.8ms\n",
      "image 8/29 /home/jinda/Desktop/j-vis/23submission/0428_ForestFire/ForestFire2023-5/test/images/HLvabTG3onl_jpg.rf.d68e78449ec481fdbddf4f5af66a4252.jpg: 1024x1024 23 Alive Trees, 7 Dead Trees, 3 Debriss, 50.3ms\n",
      "image 9/29 /home/jinda/Desktop/j-vis/23submission/0428_ForestFire/ForestFire2023-5/test/images/JYoR_EayQkf_jpg.rf.31fc461e0326a69dc1177c1e48b64154.jpg: 1024x1024 12 Alive Trees, 1 Beetle-Fire Tree, 1 Debris, 50.2ms\n",
      "image 10/29 /home/jinda/Desktop/j-vis/23submission/0428_ForestFire/ForestFire2023-5/test/images/LRVmyp-KnLJ_jpg.rf.bf09ad04112c93134c477cf01c1d9618.jpg: 1024x1024 52 Alive Trees, 25 Beetle-Fire Trees, 71 Dead Trees, 13 Debriss, 48.9ms\n",
      "image 11/29 /home/jinda/Desktop/j-vis/23submission/0428_ForestFire/ForestFire2023-5/test/images/OXtOESX3BWM_jpg.rf.c355d8c7c65950d1a2a3f095b8178960.jpg: 1024x1024 59 Alive Trees, 2 Dead Trees, 17 Debriss, 43.2ms\n",
      "image 12/29 /home/jinda/Desktop/j-vis/23submission/0428_ForestFire/ForestFire2023-5/test/images/P6Z9-HC0w4a_jpg.rf.0820063e1cf991b164d00d5eb2ee5511.jpg: 1024x1024 35 Alive Trees, 22 Beetle-Fire Trees, 14 Dead Trees, 8 Debriss, 43.8ms\n",
      "image 13/29 /home/jinda/Desktop/j-vis/23submission/0428_ForestFire/ForestFire2023-5/test/images/Vn4YCKnD-yU_jpg.rf.ae746439138c8f684d0d5a35c090588e.jpg: 1024x1024 13 Alive Trees, 3 Dead Trees, 2 Debriss, 43.8ms\n",
      "image 14/29 /home/jinda/Desktop/j-vis/23submission/0428_ForestFire/ForestFire2023-5/test/images/_9AsASyAbtS_jpg.rf.fafba5def2d8efe2d57e06db57fc78be.jpg: 1024x1024 41 Alive Trees, 3 Dead Trees, 2 Debriss, 44.6ms\n",
      "image 15/29 /home/jinda/Desktop/j-vis/23submission/0428_ForestFire/ForestFire2023-5/test/images/_FZVWTnmyOM_jpg.rf.4db79866912e12ae0e443fc7fb3b33e1.jpg: 1024x1024 56 Alive Trees, 1 Beetle-Fire Tree, 4 Dead Trees, 2 Debriss, 43.5ms\n",
      "image 16/29 /home/jinda/Desktop/j-vis/23submission/0428_ForestFire/ForestFire2023-5/test/images/_GsdPF7IasE_jpg.rf.1550326fd98f9e41c5af77f5f69b1f36.jpg: 1024x1024 37 Alive Trees, 9 Beetle-Fire Trees, 7 Dead Trees, 15 Debriss, 42.5ms\n",
      "image 17/29 /home/jinda/Desktop/j-vis/23submission/0428_ForestFire/ForestFire2023-5/test/images/_Pj1B8PP3N__jpg.rf.c288b94195cc199fafc692bd56aadbdc.jpg: 1024x1024 40 Alive Trees, 2 Dead Trees, 1 Debris, 43.4ms\n",
      "image 18/29 /home/jinda/Desktop/j-vis/23submission/0428_ForestFire/ForestFire2023-5/test/images/_l3K1p_2biZX_jpg.rf.a929e43573204063a2580d198115f7a3.jpg: 1024x1024 40 Alive Trees, 61 Beetle-Fire Trees, 7 Dead Trees, 8 Debriss, 45.0ms\n",
      "image 19/29 /home/jinda/Desktop/j-vis/23submission/0428_ForestFire/ForestFire2023-5/test/images/ahLBtELO68K_jpg.rf.2fc7b40fb90a1877b31bd1ef28fa7a02.jpg: 1024x1024 201 Alive Trees, 14 Beetle-Fire Trees, 1 Debris, 44.9ms\n",
      "image 20/29 /home/jinda/Desktop/j-vis/23submission/0428_ForestFire/ForestFire2023-5/test/images/giSEY2h38mo_jpg.rf.68af3de21d74f693320a99a780dc53b1.jpg: 1024x1024 35 Alive Trees, 10 Dead Trees, 5 Debriss, 45.0ms\n",
      "image 21/29 /home/jinda/Desktop/j-vis/23submission/0428_ForestFire/ForestFire2023-5/test/images/hMO8GTKiOb3d_jpg.rf.536c4dcf08053b28a84b9586528c735d.jpg: 1024x1024 56 Alive Trees, 1 Beetle-Fire Tree, 23 Dead Trees, 1 Debris, 44.7ms\n",
      "image 22/29 /home/jinda/Desktop/j-vis/23submission/0428_ForestFire/ForestFire2023-5/test/images/jxu4z8FstE_jpg.rf.6fcee4075075af6d8315f8004224b64e.jpg: 1024x1024 53 Alive Trees, 1 Debris, 44.9ms\n",
      "image 23/29 /home/jinda/Desktop/j-vis/23submission/0428_ForestFire/ForestFire2023-5/test/images/ksEJAwYkSL__jpg.rf.fc0d0b1178c4daaac82133137fd389c7.jpg: 1024x1024 28 Alive Trees, 1 Beetle-Fire Tree, 7 Dead Trees, 8 Debriss, 44.9ms\n",
      "image 24/29 /home/jinda/Desktop/j-vis/23submission/0428_ForestFire/ForestFire2023-5/test/images/n2tVdBNvdVI_jpg.rf.5ab3b300b9c12d65dcb9777a20199b0e.jpg: 1024x1024 41 Alive Trees, 19 Beetle-Fire Trees, 17 Dead Trees, 7 Debriss, 44.8ms\n",
      "image 25/29 /home/jinda/Desktop/j-vis/23submission/0428_ForestFire/ForestFire2023-5/test/images/nHokUYu1Y8a_jpg.rf.aa3274b8daa58ee8a022bc4767537cf0.jpg: 1024x1024 67 Alive Trees, 1 Beetle-Fire Tree, 1 Dead Tree, 15 Debriss, 43.2ms\n",
      "image 26/29 /home/jinda/Desktop/j-vis/23submission/0428_ForestFire/ForestFire2023-5/test/images/nal0C9BJjEV_jpg.rf.21fc130c3ba6a10fe208b7bd0ca2de46.jpg: 1024x1024 58 Alive Trees, 15 Beetle-Fire Trees, 14 Dead Trees, 4 Debriss, 43.9ms\n",
      "image 27/29 /home/jinda/Desktop/j-vis/23submission/0428_ForestFire/ForestFire2023-5/test/images/rw9qyaWxPbN_jpg.rf.5ecd340b88937b42b433152b01ecd992.jpg: 1024x1024 69 Alive Trees, 4 Dead Trees, 2 Debriss, 44.4ms\n",
      "image 28/29 /home/jinda/Desktop/j-vis/23submission/0428_ForestFire/ForestFire2023-5/test/images/wOYlxFkuiI1_jpg.rf.2828c13d2d65913b171d99dfb97619e2.jpg: 1024x1024 64 Alive Trees, 29 Beetle-Fire Trees, 7 Dead Trees, 10 Debriss, 45.1ms\n",
      "image 29/29 /home/jinda/Desktop/j-vis/23submission/0428_ForestFire/ForestFire2023-5/test/images/yGJ4EkfoR2N_jpg.rf.242c87a910104adb3e868bb8da5e81ec.jpg: 1024x1024 137 Alive Trees, 15 Beetle-Fire Trees, 2 Debriss, 45.0ms\n",
      "Speed: 4.3ms preprocess, 46.2ms inference, 20.8ms postprocess per image at shape (1, 3, 1024, 1024)\n",
      "Results saved to \u001b[1mruns/detect/predict3\u001b[0m\n",
      "29 labels saved to runs/detect/predict3/labels\n"
     ]
    }
   ],
   "source": [
    "# step 2: predict images with trained yolov8\n",
    "from ultralytics import YOLO\n",
    "# Load a model\n",
    "model = YOLO(\"yolov8l.pt\")  # load an official model\n",
    "# model = YOLO(\"model/yolov8l-best.pt\")  # load a custom model\n",
    "\n",
    "# predict with the model\n",
    "# adjust image folder path accordingly\n",
    "results = model.predict(source=\"./ForestFire2023-5/test/images\", conf=0.25, save_txt=True, save_conf=True, save=True)  # predict on an image"
   ]
  },
  {
   "cell_type": "code",
   "execution_count": 4,
   "id": "9d38b27e",
   "metadata": {},
   "outputs": [
    {
     "name": "stdout",
     "output_type": "stream",
     "text": [
      "/work/van-speech-nlp/j/j-vis/ForestMapping\n",
      "/work/van-speech-nlp/j/j-vis/ForestMapping\n"
     ]
    }
   ],
   "source": [
    "%cd ./ForestMapping\n",
    "!pwd"
   ]
  },
  {
   "cell_type": "code",
   "execution_count": 6,
   "id": "4ccb6e14-fce6-4505-ad4a-460d73a881ac",
   "metadata": {
    "tags": []
   },
   "outputs": [],
   "source": [
    "# Run the mapping code with specified parameters\n",
    "# - images-path: The path to the images directory\n",
    "# - labels-path: The path to the predicted labels directory\n",
    "# - out-path: The path to the output directory\n",
    "# - distance: The specified distance parameter (here set to 50)"
   ]
  },
  {
   "cell_type": "code",
   "execution_count": 5,
   "id": "4e46b9b3-d633-4f53-96f6-3c6da4332371",
   "metadata": {},
   "outputs": [
    {
     "name": "stdout",
     "output_type": "stream",
     "text": [
      "\n",
      "Merging bounding boxes...\n",
      "A total of 29 images to be read.\n",
      "29 images read.\n",
      "A total of 29 images are read from \"../ForestFire2023-5/test/images\". 29 corresponding files of bounding boxes info are read from \"../runs/detect/predict/labels\".\n",
      "Merged boxes' visualizations saved to \"visualize\"\n",
      "`imgs_merged_boxes` variable returned.\n",
      "\n",
      "Mapping bounding boxes...\n",
      "A total of 29 images to be read.\n",
      "29 images read.\n",
      "A total of 29 images are read from \"../ForestFire2023-5/test/images\".\n",
      "Start mapping alive, beetle/fire, dead trees and debris in each image with colours.\n",
      "0/29 images are processed.\n",
      "5/29 images are processed.\n",
      "10/29 images are processed.\n",
      "15/29 images are processed.\n",
      "20/29 images are processed.\n",
      "25/29 images are processed.\n",
      "All alive & dead trees are mapped with yellow or red colours across 29 images.\n",
      "Mapped images are saved in \"output\".\n",
      "\n",
      "Saving merged bounding boxes...\n",
      "Merged boxes saved as \"output/out_boxes.json\"\n"
     ]
    }
   ],
   "source": [
    "# step 3: run mapping code\n",
    "!python3 ./main.py \\\n",
    "    --images-path ../ForestFire2023-5/test/images \\\n",
    "    --labels-path ../runs/detect/predict/labels \\\n",
    "    --out-path output \\\n",
    "    --distance 50"
   ]
  },
  {
   "cell_type": "code",
   "execution_count": null,
   "id": "894b3446-8371-4da6-84ae-443d3f128e47",
   "metadata": {},
   "outputs": [],
   "source": []
  }
 ],
 "metadata": {
  "kernelspec": {
   "display_name": "Python 3 (ipykernel)",
   "language": "python",
   "name": "python3"
  },
  "language_info": {
   "codemirror_mode": {
    "name": "ipython",
    "version": 3
   },
   "file_extension": ".py",
   "mimetype": "text/x-python",
   "name": "python",
   "nbconvert_exporter": "python",
   "pygments_lexer": "ipython3",
   "version": "3.10.13"
  }
 },
 "nbformat": 4,
 "nbformat_minor": 5
}
