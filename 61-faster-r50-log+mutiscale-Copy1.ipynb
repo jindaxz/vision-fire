{
 "cells": [
  {
   "cell_type": "code",
   "execution_count": 1,
   "id": "63eb0e68",
   "metadata": {
    "tags": []
   },
   "outputs": [
    {
     "name": "stdout",
     "output_type": "stream",
     "text": [
      "/bin/bash: nvcc: command not found\n",
      "gcc (GCC) 4.8.5 20150623 (Red Hat 4.8.5-44)\n",
      "Copyright (C) 2015 Free Software Foundation, Inc.\n",
      "This is free software; see the source for copying conditions.  There is NO\n",
      "warranty; not even for MERCHANTABILITY or FITNESS FOR A PARTICULAR PURPOSE.\n",
      "\n",
      "/bin/bash: nvidia-smi: command not found\n",
      "/work/van-speech-nlp/jindaznb/j-vis\n",
      "System Prefix: /work/van-speech-nlp/jindaznb/visenv\n",
      "HOME: /work/van-speech-nlp/jindaznb/j-vis\n",
      "2.0.0+cu117 False\n",
      "3.3.0\n",
      "11.7\n",
      "GCC 9.3\n"
     ]
    }
   ],
   "source": [
    "%run 1-0mmyolo-common.ipynb"
   ]
  },
  {
   "cell_type": "markdown",
   "id": "e6a5cc70",
   "metadata": {
    "tags": []
   },
   "source": [
    "# Write custom Config file"
   ]
  },
  {
   "cell_type": "code",
   "execution_count": 2,
   "id": "bec52290",
   "metadata": {
    "tags": []
   },
   "outputs": [
    {
     "name": "stdout",
     "output_type": "stream",
     "text": [
      "/work/van-speech-nlp/jindaznb/j-vis/mmdetection\n"
     ]
    }
   ],
   "source": [
    "# %cd {HOME}/mmyolo\n",
    "%cd {HOME}/mmdetection"
   ]
  },
  {
   "cell_type": "code",
   "execution_count": 3,
   "id": "0183f9e8",
   "metadata": {
    "tags": []
   },
   "outputs": [
    {
     "name": "stdout",
     "output_type": "stream",
     "text": [
      "HOME: /work/van-speech-nlp/jindaznb/j-vis/mmdetection\n",
      "/work/van-speech-nlp/jindaznb/j-vis/mmdetection/configs/faster_rcnn/custom-faster-rcnn_r50_fpn_1x_coco-log-muti.py\n"
     ]
    }
   ],
   "source": [
    "import os\n",
    "HOME = os.getcwd()\n",
    "print(\"HOME:\", HOME)\n",
    "MAX_EPOCHS=500\n",
    "BATCH_SIZE=8\n",
    "classes=('Alive Tree', 'Beetle-Fire Tree', 'Dead Tree', 'Debris')\n",
    "num_classes=len(classes)\n",
    "\n",
    "\n",
    "model_folder=\"faster_rcnn\"\n",
    "base_model_name=\"faster-rcnn_r50_fpn_1x_coco\"\n",
    "custom_model_name=f\"custom-{base_model_name}-log-muti\"\n",
    "CUSTOM_CONFIG_PATH = f\"{HOME}/configs/{model_folder}/{custom_model_name}.py\"\n",
    "dataset_location=f\"/work/van-speech-nlp/jindaznb/j-vis/ForestFire2023-5-log\"\n",
    "print(CUSTOM_CONFIG_PATH)\n",
    "\n",
    "\n",
    "CUSTOM_CONFIG = f\"\"\"\n",
    "_base_ = './{base_model_name}.py'\n",
    "\n",
    "# ========================Frequently modified parameters======================\n",
    "# -----data related-----\n",
    "model = dict(\n",
    "    roi_head=dict(\n",
    "        bbox_head=dict(num_classes={num_classes}),\n",
    "))\n",
    "\n",
    "dataset_type = 'COCODataset'\n",
    "classes =  {classes}\n",
    "\n",
    "data_root = '{dataset_location}' # Root directory of the dataset\n",
    "\n",
    "train_ann_file = 'train/_annotations.coco.json'  # Annotation file for training set\n",
    "train_data_prefix = 'train/'  # Prefix for training data directory\n",
    "\n",
    "val_ann_file = 'valid/_annotations.coco.json'  # Annotation file for validation set\n",
    "val_data_prefix = 'valid/'  # Prefix for validation data directory\n",
    "\n",
    "class_name = {classes} \n",
    "num_classes = {num_classes}  # Number of classes in the dataset\n",
    "metainfo = dict(classes=class_name, palette=[(20, 220, 60)])  # Metadata information for visualization\n",
    "\n",
    "train_batch_size_per_gpu = {BATCH_SIZE}  # Batch size per GPU during training\n",
    "#train_num_workers = 4  # Number of worker processes for data loading during training\n",
    "persistent_workers = True  # Whether to use persistent workers during training\n",
    "\n",
    "# -----train val related-----\n",
    "base_lr = 0.004  # Base learning rate for optimization\n",
    "max_epochs = {MAX_EPOCHS}  # Maximum training epochs\n",
    "num_epochs_stage2 = 20  # Number of epochs for stage 2 training\n",
    "\n",
    "model_test_cfg = dict(\n",
    "    multi_label=True,  # Multi-label configuration for multi-class prediction\n",
    "    nms_pre=30000,  # Number of boxes before NMS\n",
    "    score_thr=0.001,  # Score threshold to filter out boxes\n",
    "    nms=dict(type='nms', iou_threshold=0.65),  # NMS type and threshold\n",
    "    max_per_img=300)  # Maximum number of detections per image\n",
    "\n",
    "\n",
    "# ========================Possible modified parameters========================\n",
    "default_hooks = dict(\n",
    "    checkpoint=dict(\n",
    "        type=\"CheckpointHook\",\n",
    "        save_best=\"coco/bbox_mAP_50\",\n",
    "        rule=\"greater\",\n",
    "        max_keep_ckpts=10,\n",
    "    ),\n",
    "    early_stopping=dict(\n",
    "        type=\"EarlyStoppingHook\",\n",
    "        monitor=\"coco/bbox_mAP_50\",\n",
    "        patience=20,\n",
    "        min_delta=0.001\n",
    "    ),\n",
    ")\n",
    "\n",
    "train_cfg=dict(\n",
    "    max_epochs=max_epochs\n",
    ")\n",
    "\n",
    "data = dict(\n",
    "    samples_per_gpu=8,\n",
    "    #workers_per_gpu=2,\n",
    "    train=dict(\n",
    "        type=dataset_type,\n",
    "        img_prefix='train/',\n",
    "        classes=classes,\n",
    "        img_scale=[(1333, 800), (1666, 1000)], # mutiscale\n",
    "        ann_file='train/_annotations.coco.json.json'),\n",
    "    val=dict(\n",
    "        type=dataset_type,\n",
    "        img_prefix='valid/',\n",
    "        classes=classes,\n",
    "        ann_file='valid/_annotations.coco.json'),\n",
    "    test=dict(\n",
    "        type=dataset_type,\n",
    "        img_prefix='test/',\n",
    "        classes=classes,\n",
    "        ann_file='test/_annotations.coco.json'))\n",
    "\n",
    "# -----data related-----\n",
    "img_scale = (1024, 1024)  # width, height\n",
    "# ratio range for random resize\n",
    "random_resize_ratio_range = (0.1, 2.0)\n",
    "# Cached images number in mosaic\n",
    "mosaic_max_cached_images = 40\n",
    "# Number of cached images in mixupep\n",
    "mixup_max_cached_images = 20\n",
    "# Batch size of a single GPU during validation\n",
    "val_batch_size_per_gpu = 8\n",
    "# Worker to pre-fetch data for each single GPU during validation\n",
    "val_num_workers = 3\n",
    "\n",
    "# Config of batch shapes. Only on val.\n",
    "batch_shapes_cfg = dict(\n",
    "    type='BatchShapePolicy',\n",
    "    batch_size=val_batch_size_per_gpu,\n",
    "    img_size=img_scale[0],\n",
    "    size_divisor=32,\n",
    "    extra_pad_ratio=0.5)\n",
    "\n",
    "# -----train val related-----\n",
    "lr_start_factor = 1.0e-5\n",
    "dsl_topk = 13  # Number of bbox selected in each level\n",
    "loss_cls_weight = 1.0\n",
    "loss_bbox_weight = 2.0\n",
    "qfl_beta = 2.0  # beta of QualityFocalLoss\n",
    "weight_decay = 0.05\n",
    "\n",
    "# Save model checkpoint and validation intervals\n",
    "save_checkpoint_intervals = 10\n",
    "# validation intervals in stage 2\n",
    "val_interval_stage2 = 1\n",
    "# The maximum checkpoints to keep.\n",
    "max_keep_ckpts = 3\n",
    "# single-scale training is recommended to\n",
    "# be turned on, which can speed up training.\n",
    "env_cfg = dict(cudnn_benchmark=True)\n",
    "\n",
    "\n",
    "\n",
    "test_dataloader = dict(\n",
    "    dataset=dict(\n",
    "        data_root='{dataset_location}',\n",
    "    ),)\n",
    "test_evaluator = dict(\n",
    "    ann_file='{dataset_location}/valid/_annotations.coco.json',)\n",
    "\n",
    "\n",
    "\n",
    "train_dataloader = dict(\n",
    "\n",
    "    dataset=dict(\n",
    "        data_root='{dataset_location}',\n",
    "    ),)\n",
    "\n",
    "val_dataloader = dict(\n",
    "\n",
    "    dataset=dict(\n",
    "\n",
    "        data_root='{dataset_location}',\n",
    "    ),)\n",
    "    \n",
    "    \n",
    "val_evaluator = dict(\n",
    "    ann_file=\n",
    "    '{dataset_location}/valid/_annotations.coco.json',\n",
    ")\n",
    "\n",
    "\"\"\"\n",
    "with open(CUSTOM_CONFIG_PATH, 'w') as file:\n",
    "    file.write(CUSTOM_CONFIG)"
   ]
  },
  {
   "cell_type": "code",
   "execution_count": 4,
   "id": "9d3d12a9",
   "metadata": {
    "tags": []
   },
   "outputs": [],
   "source": [
    "# !python tools/train.py configs/{model_folder}/{custom_model_name}.py \\\n",
    "#     --resume --cfg-options randomness.seed=42 \\\n",
    "#     | tee \"../log/OUT_{custom_model_name}_$(date +\"%Y%m%d_%H%M%S\").txt\""
   ]
  },
  {
   "cell_type": "code",
   "execution_count": 6,
   "id": "0204b3d0",
   "metadata": {},
   "outputs": [
    {
     "name": "stdout",
     "output_type": "stream",
     "text": [
      "Loads checkpoint by local backend from path: /work/van-speech-nlp/jindaznb/j-vis/mmdetection/work_dirs/custom-faster-rcnn_r50_fpn_1x_coco-log-muti/best_coco_bbox_mAP_50_epoch_341.pth\n",
      "mAP: 0.3999501947024268\n"
     ]
    }
   ],
   "source": [
    "CONFIDENCE_THRESHOLD = 0.5\n",
    "NMS_IOU_THRESHOLD = 0.5\n",
    "\n",
    "ds = sv.DetectionDataset.from_coco(\n",
    "    images_directory_path=f\"{dataset_location}/test\",\n",
    "    annotations_path=f\"{dataset_location}/test/_annotations.coco.json\",\n",
    ")\n",
    "\n",
    "images = list(ds.images.values())\n",
    "CUSTOM_WEIGHTS_PATH = glob.glob(f\"{HOME}/work_dirs/{custom_model_name}/best_coco_bbox_mAP_50_epoch_*.pth\")[0]\n",
    "model = init_detector(CUSTOM_CONFIG_PATH, CUSTOM_WEIGHTS_PATH, device=DEVICE)\n",
    "\n",
    "def callback(image: np.ndarray) -> sv.Detections:\n",
    "    result = inference_detector(model, image)\n",
    "    detections = sv.Detections.from_mmdetection(result)\n",
    "    return detections[detections.confidence > CONFIDENCE_THRESHOLD].with_nms(threshold=NMS_IOU_THRESHOLD)\n",
    "\n",
    "\n",
    "mean_average_precision = sv.MeanAveragePrecision.benchmark(\n",
    "    dataset = ds,\n",
    "    callback = callback\n",
    ")\n",
    "\n",
    "print('mAP:', mean_average_precision.map50_95)"
   ]
  },
  {
   "cell_type": "code",
   "execution_count": 7,
   "id": "30e004ad",
   "metadata": {},
   "outputs": [
    {
     "name": "stdout",
     "output_type": "stream",
     "text": [
      "Loads checkpoint by local backend from path: /work/van-speech-nlp/jindaznb/j-vis/mmdetection/work_dirs/custom-faster-rcnn_r50_fpn_1x_coco-log-muti/best_coco_bbox_mAP_50_epoch_341.pth\n",
      "|   iter    |  target   | confid... | nms_io... |\n",
      "-------------------------------------------------\n",
      "| \u001b[0m1        \u001b[0m | \u001b[0m0.3971   \u001b[0m | \u001b[0m0.4371   \u001b[0m | \u001b[0m0.9556   \u001b[0m |\n",
      "| \u001b[95m2        \u001b[0m | \u001b[95m0.4124   \u001b[0m | \u001b[95m0.7588   \u001b[0m | \u001b[95m0.6388   \u001b[0m |\n",
      "| \u001b[0m3        \u001b[0m | \u001b[0m0.3985   \u001b[0m | \u001b[0m0.2404   \u001b[0m | \u001b[0m0.2404   \u001b[0m |\n",
      "| \u001b[0m4        \u001b[0m | \u001b[0m0.3836   \u001b[0m | \u001b[0m0.1523   \u001b[0m | \u001b[0m0.8796   \u001b[0m |\n",
      "| \u001b[0m5        \u001b[0m | \u001b[0m0.4063   \u001b[0m | \u001b[0m0.641    \u001b[0m | \u001b[0m0.7373   \u001b[0m |\n",
      "| \u001b[0m6        \u001b[0m | \u001b[0m0.0      \u001b[0m | \u001b[0m1.0      \u001b[0m | \u001b[0m0.3436   \u001b[0m |\n",
      "| \u001b[95m7        \u001b[0m | \u001b[95m0.4222   \u001b[0m | \u001b[95m0.8975   \u001b[0m | \u001b[95m1.0      \u001b[0m |\n",
      "| \u001b[0m8        \u001b[0m | \u001b[0m0.3794   \u001b[0m | \u001b[0m0.1      \u001b[0m | \u001b[0m0.5317   \u001b[0m |\n",
      "| \u001b[0m9        \u001b[0m | \u001b[0m0.4213   \u001b[0m | \u001b[0m0.8801   \u001b[0m | \u001b[0m0.9656   \u001b[0m |\n",
      "| \u001b[0m10       \u001b[0m | \u001b[0m0.3988   \u001b[0m | \u001b[0m0.4555   \u001b[0m | \u001b[0m0.4747   \u001b[0m |\n",
      "| \u001b[0m11       \u001b[0m | \u001b[0m0.4059   \u001b[0m | \u001b[0m0.4896   \u001b[0m | \u001b[0m0.1      \u001b[0m |\n",
      "| \u001b[0m12       \u001b[0m | \u001b[0m0.3917   \u001b[0m | \u001b[0m0.1      \u001b[0m | \u001b[0m0.1      \u001b[0m |\n",
      "| \u001b[95m13       \u001b[0m | \u001b[95m0.444    \u001b[0m | \u001b[95m0.9987   \u001b[0m | \u001b[95m0.8144   \u001b[0m |\n",
      "| \u001b[0m14       \u001b[0m | \u001b[0m0.3938   \u001b[0m | \u001b[0m0.3402   \u001b[0m | \u001b[0m0.6994   \u001b[0m |\n",
      "| \u001b[0m15       \u001b[0m | \u001b[0m0.4068   \u001b[0m | \u001b[0m0.6631   \u001b[0m | \u001b[0m0.9999   \u001b[0m |\n",
      "| \u001b[0m16       \u001b[0m | \u001b[0m0.4102   \u001b[0m | \u001b[0m0.6437   \u001b[0m | \u001b[0m0.2365   \u001b[0m |\n",
      "| \u001b[0m17       \u001b[0m | \u001b[0m0.4039   \u001b[0m | \u001b[0m0.4798   \u001b[0m | \u001b[0m0.2805   \u001b[0m |\n",
      "| \u001b[0m18       \u001b[0m | \u001b[0m0.0      \u001b[0m | \u001b[0m1.0      \u001b[0m | \u001b[0m0.9575   \u001b[0m |\n",
      "| \u001b[95m19       \u001b[0m | \u001b[95m0.4452   \u001b[0m | \u001b[95m0.991    \u001b[0m | \u001b[95m0.75     \u001b[0m |\n",
      "| \u001b[0m20       \u001b[0m | \u001b[0m0.4446   \u001b[0m | \u001b[0m0.997    \u001b[0m | \u001b[0m0.7526   \u001b[0m |\n",
      "| \u001b[0m21       \u001b[0m | \u001b[0m0.4151   \u001b[0m | \u001b[0m0.7939   \u001b[0m | \u001b[0m1.0      \u001b[0m |\n",
      "| \u001b[0m22       \u001b[0m | \u001b[0m0.421    \u001b[0m | \u001b[0m0.8665   \u001b[0m | \u001b[0m0.7789   \u001b[0m |\n",
      "| \u001b[0m23       \u001b[0m | \u001b[0m0.418    \u001b[0m | \u001b[0m0.8373   \u001b[0m | \u001b[0m0.7127   \u001b[0m |\n",
      "| \u001b[95m24       \u001b[0m | \u001b[95m0.4495   \u001b[0m | \u001b[95m0.9991   \u001b[0m | \u001b[95m0.8157   \u001b[0m |\n",
      "| \u001b[0m25       \u001b[0m | \u001b[0m0.0      \u001b[0m | \u001b[0m1.0      \u001b[0m | \u001b[0m0.683    \u001b[0m |\n",
      "| \u001b[0m26       \u001b[0m | \u001b[0m0.429    \u001b[0m | \u001b[0m0.9652   \u001b[0m | \u001b[0m0.8541   \u001b[0m |\n",
      "| \u001b[0m27       \u001b[0m | \u001b[0m0.4239   \u001b[0m | \u001b[0m0.9285   \u001b[0m | \u001b[0m0.7774   \u001b[0m |\n",
      "| \u001b[0m28       \u001b[0m | \u001b[0m0.4124   \u001b[0m | \u001b[0m0.7601   \u001b[0m | \u001b[0m0.7183   \u001b[0m |\n",
      "| \u001b[0m29       \u001b[0m | \u001b[0m0.4154   \u001b[0m | \u001b[0m0.7952   \u001b[0m | \u001b[0m0.7838   \u001b[0m |\n",
      "| \u001b[0m30       \u001b[0m | \u001b[0m0.421    \u001b[0m | \u001b[0m0.8818   \u001b[0m | \u001b[0m0.8523   \u001b[0m |\n",
      "| \u001b[0m31       \u001b[0m | \u001b[0m0.4003   \u001b[0m | \u001b[0m0.5186   \u001b[0m | \u001b[0m0.7982   \u001b[0m |\n",
      "| \u001b[0m32       \u001b[0m | \u001b[0m0.4156   \u001b[0m | \u001b[0m0.8202   \u001b[0m | \u001b[0m0.9141   \u001b[0m |\n",
      "| \u001b[0m33       \u001b[0m | \u001b[0m0.413    \u001b[0m | \u001b[0m0.7394   \u001b[0m | \u001b[0m0.9437   \u001b[0m |\n",
      "| \u001b[0m34       \u001b[0m | \u001b[0m0.4239   \u001b[0m | \u001b[0m0.928    \u001b[0m | \u001b[0m0.8193   \u001b[0m |\n",
      "| \u001b[0m35       \u001b[0m | \u001b[0m0.4183   \u001b[0m | \u001b[0m0.811    \u001b[0m | \u001b[0m0.1671   \u001b[0m |\n",
      "| \u001b[0m36       \u001b[0m | \u001b[0m0.4127   \u001b[0m | \u001b[0m0.7542   \u001b[0m | \u001b[0m0.8535   \u001b[0m |\n",
      "| \u001b[0m37       \u001b[0m | \u001b[0m0.4089   \u001b[0m | \u001b[0m0.7028   \u001b[0m | \u001b[0m0.7935   \u001b[0m |\n",
      "| \u001b[0m38       \u001b[0m | \u001b[0m0.4156   \u001b[0m | \u001b[0m0.7316   \u001b[0m | \u001b[0m0.1998   \u001b[0m |\n",
      "| \u001b[0m39       \u001b[0m | \u001b[0m0.4153   \u001b[0m | \u001b[0m0.7447   \u001b[0m | \u001b[0m0.1131   \u001b[0m |\n",
      "| \u001b[0m40       \u001b[0m | \u001b[0m0.3897   \u001b[0m | \u001b[0m0.2347   \u001b[0m | \u001b[0m0.5059   \u001b[0m |\n",
      "| \u001b[0m41       \u001b[0m | \u001b[0m0.4108   \u001b[0m | \u001b[0m0.662    \u001b[0m | \u001b[0m0.1504   \u001b[0m |\n",
      "| \u001b[0m42       \u001b[0m | \u001b[0m0.4231   \u001b[0m | \u001b[0m0.8968   \u001b[0m | \u001b[0m0.235    \u001b[0m |\n",
      "| \u001b[0m43       \u001b[0m | \u001b[0m0.4175   \u001b[0m | \u001b[0m0.818    \u001b[0m | \u001b[0m0.2461   \u001b[0m |\n",
      "| \u001b[0m44       \u001b[0m | \u001b[0m0.4231   \u001b[0m | \u001b[0m0.8865   \u001b[0m | \u001b[0m0.1614   \u001b[0m |\n",
      "| \u001b[0m45       \u001b[0m | \u001b[0m0.4219   \u001b[0m | \u001b[0m0.8737   \u001b[0m | \u001b[0m0.318    \u001b[0m |\n",
      "| \u001b[0m46       \u001b[0m | \u001b[0m0.4168   \u001b[0m | \u001b[0m0.7957   \u001b[0m | \u001b[0m0.3222   \u001b[0m |\n",
      "| \u001b[0m47       \u001b[0m | \u001b[0m0.4138   \u001b[0m | \u001b[0m0.7235   \u001b[0m | \u001b[0m0.2803   \u001b[0m |\n",
      "| \u001b[0m48       \u001b[0m | \u001b[0m0.4124   \u001b[0m | \u001b[0m0.7587   \u001b[0m | \u001b[0m0.6377   \u001b[0m |\n",
      "| \u001b[0m49       \u001b[0m | \u001b[0m0.4447   \u001b[0m | \u001b[0m0.9918   \u001b[0m | \u001b[0m0.7503   \u001b[0m |\n",
      "| \u001b[0m50       \u001b[0m | \u001b[0m0.4067   \u001b[0m | \u001b[0m0.6522   \u001b[0m | \u001b[0m0.889    \u001b[0m |\n",
      "=================================================\n",
      "Best mAP: 0.4494542291472227\n",
      "Best Parameters: [0.9991242879374024, 0.8156941838533487]\n"
     ]
    }
   ],
   "source": [
    "ds = sv.DetectionDataset.from_coco(\n",
    "    images_directory_path=f\"{dataset_location}/test\",\n",
    "    annotations_path=f\"{dataset_location}/test/_annotations.coco.json\",\n",
    ")\n",
    "\n",
    "images = list(ds.images.values())\n",
    "CUSTOM_WEIGHTS_PATH = glob.glob(f\"{HOME}/work_dirs/{custom_model_name}/best_coco_bbox_mAP_50_epoch_*.pth\")[-1]\n",
    "model = init_detector(CUSTOM_CONFIG_PATH, CUSTOM_WEIGHTS_PATH, device=DEVICE)\n",
    "\n",
    "best_map, best_params = optimize_params(ds, model, param_space)\n",
    "print('Best mAP:', best_map)\n",
    "print('Best Parameters:', best_params)"
   ]
  },
  {
   "cell_type": "code",
   "execution_count": null,
   "id": "e946a1ff",
   "metadata": {},
   "outputs": [],
   "source": []
  },
  {
   "cell_type": "code",
   "execution_count": null,
   "id": "53d2f35a",
   "metadata": {},
   "outputs": [],
   "source": [
    "print()"
   ]
  },
  {
   "cell_type": "code",
   "execution_count": null,
   "id": "0565dade",
   "metadata": {},
   "outputs": [],
   "source": []
  },
  {
   "cell_type": "code",
   "execution_count": null,
   "id": "f95b7931",
   "metadata": {},
   "outputs": [],
   "source": []
  }
 ],
 "metadata": {
  "kernelspec": {
   "display_name": "Python 3 (ipykernel)",
   "language": "python",
   "name": "python3"
  },
  "language_info": {
   "codemirror_mode": {
    "name": "ipython",
    "version": 3
   },
   "file_extension": ".py",
   "mimetype": "text/x-python",
   "name": "python",
   "nbconvert_exporter": "python",
   "pygments_lexer": "ipython3",
   "version": "3.8.19"
  }
 },
 "nbformat": 4,
 "nbformat_minor": 5
}
