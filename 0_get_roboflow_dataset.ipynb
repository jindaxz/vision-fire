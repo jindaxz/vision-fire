{
 "cells": [
  {
   "cell_type": "code",
   "execution_count": null,
   "id": "22d10c14-bd9d-4fc0-91a2-768484d7063c",
   "metadata": {},
   "outputs": [],
   "source": [
    "from roboflow import Roboflow\n",
    "rf = Roboflow(api_key=\"a8fzziqukkQgsmGFnKgD\")\n",
    "project = rf.workspace(\"wildfire2024\").project(\"forestfire2024\")\n",
    "dataset = project.version(1).download(\"coco-mmdetection\")"
   ]
  },
  {
   "cell_type": "code",
   "execution_count": 16,
   "id": "d8903201-35e3-4eaf-9b77-eb913fd7232e",
   "metadata": {},
   "outputs": [
    {
     "name": "stdout",
     "output_type": "stream",
     "text": [
      "loading Roboflow workspace...\n",
      "loading Roboflow project...\n"
     ]
    },
    {
     "name": "stderr",
     "output_type": "stream",
     "text": [
      "Downloading Dataset Version Zip in ForestFire2023-5 to coco-mmdetection:: 100%|██████████| 269456/269456 [00:05<00:00, 52451.55it/s]\n"
     ]
    },
    {
     "name": "stdout",
     "output_type": "stream",
     "text": [
      "\n"
     ]
    },
    {
     "name": "stderr",
     "output_type": "stream",
     "text": [
      "Extracting Dataset Version Zip to ForestFire2023-5 in coco-mmdetection:: 100%|██████████| 727/727 [00:12<00:00, 60.34it/s]\n"
     ]
    }
   ],
   "source": [
    "\n",
    "from roboflow import Roboflow\n",
    "rf = Roboflow(api_key=\"a8fzziqukkQgsmGFnKgD\")\n",
    "project = rf.workspace(\"forest-fire\").project(\"forestfire2023\")\n",
    "version = project.version(5)\n",
    "dataset = version.download(\"coco-mmdetection\")\n"
   ]
  },
  {
   "cell_type": "code",
   "execution_count": 19,
   "id": "a8d94f4c-49ec-453a-9415-fa14f50f9582",
   "metadata": {},
   "outputs": [],
   "source": [
    "rm -rf ForestFire2023-5-log"
   ]
  },
  {
   "cell_type": "code",
   "execution_count": 8,
   "id": "75da103a-cb83-4a7a-b6c6-3fb085974a77",
   "metadata": {},
   "outputs": [],
   "source": [
    "rm -rf Forestfire2024-1-hsv"
   ]
  },
  {
   "cell_type": "code",
   "execution_count": 9,
   "id": "aa2ab390-56ce-462d-b776-0d45746bf5c7",
   "metadata": {},
   "outputs": [],
   "source": [
    "cp -r ForestFire2023-5 ForestFire2023-5-yuv"
   ]
  },
  {
   "cell_type": "code",
   "execution_count": 20,
   "id": "b47d476a-48d8-4c6e-8749-447aebee9e2d",
   "metadata": {},
   "outputs": [],
   "source": [
    "cp -r ForestFire2023-5 ForestFire2023-5-log"
   ]
  },
  {
   "cell_type": "code",
   "execution_count": 11,
   "id": "30492af7-97fc-4dbb-b12f-72c2f4df89d5",
   "metadata": {},
   "outputs": [],
   "source": [
    "cp -r ForestFire2023-5 ForestFire2023-5-lab"
   ]
  },
  {
   "cell_type": "code",
   "execution_count": 18,
   "id": "9cffc347-1b99-4bb0-9cff-68fe83910a05",
   "metadata": {},
   "outputs": [],
   "source": [
    "cp -r ForestFire2023-5 ForestFire2023-5-linear"
   ]
  },
  {
   "cell_type": "code",
   "execution_count": null,
   "id": "2163f6eb-63e8-4f97-b186-eae1f54fdc5d",
   "metadata": {},
   "outputs": [],
   "source": []
  }
 ],
 "metadata": {
  "kernelspec": {
   "display_name": "Python 3 (ipykernel)",
   "language": "python",
   "name": "python3"
  },
  "language_info": {
   "codemirror_mode": {
    "name": "ipython",
    "version": 3
   },
   "file_extension": ".py",
   "mimetype": "text/x-python",
   "name": "python",
   "nbconvert_exporter": "python",
   "pygments_lexer": "ipython3",
   "version": "3.9.19"
  }
 },
 "nbformat": 4,
 "nbformat_minor": 5
}
