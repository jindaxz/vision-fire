{
 "cells": [
  {
   "cell_type": "code",
   "execution_count": null,
   "id": "22d10c14-bd9d-4fc0-91a2-768484d7063c",
   "metadata": {},
   "outputs": [],
   "source": [
    "from roboflow import Roboflow\n",
    "rf = Roboflow(api_key=\"a8fzziqukkQgsmGFnKgD\")\n",
    "project = rf.workspace(\"wildfire2024\").project(\"forestfire2024\")\n",
    "dataset = project.version(1).download(\"coco-mmdetection\")\n"
   ]
  }
 ],
 "metadata": {
  "kernelspec": {
   "display_name": "Python 3 (ipykernel)",
   "language": "python",
   "name": "python3"
  },
  "language_info": {
   "codemirror_mode": {
    "name": "ipython",
    "version": 3
   },
   "file_extension": ".py",
   "mimetype": "text/x-python",
   "name": "python",
   "nbconvert_exporter": "python",
   "pygments_lexer": "ipython3",
   "version": "3.10.13"
  }
 },
 "nbformat": 4,
 "nbformat_minor": 5
}
