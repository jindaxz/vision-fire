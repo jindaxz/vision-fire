{
 "cells": [
  {
   "cell_type": "code",
   "execution_count": 1,
   "id": "25182c50-f00e-4390-a098-b46ce3c890b8",
   "metadata": {
    "tags": []
   },
   "outputs": [
    {
     "name": "stdout",
     "output_type": "stream",
     "text": [
      "nvcc: NVIDIA (R) Cuda compiler driver\n",
      "Copyright (c) 2005-2020 NVIDIA Corporation\n",
      "Built on Mon_Nov_30_19:08:53_PST_2020\n",
      "Cuda compilation tools, release 11.2, V11.2.67\n",
      "Build cuda_11.2.r11.2/compiler.29373293_0\n",
      "gcc (GCC) 4.8.5 20150623 (Red Hat 4.8.5-44)\n",
      "Copyright (C) 2015 Free Software Foundation, Inc.\n",
      "This is free software; see the source for copying conditions.  There is NO\n",
      "warranty; not even for MERCHANTABILITY or FITNESS FOR A PARTICULAR PURPOSE.\n",
      "\n",
      "Tue Feb 27 18:09:24 2024       \n",
      "+---------------------------------------------------------------------------------------+\n",
      "| NVIDIA-SMI 545.23.08              Driver Version: 545.23.08    CUDA Version: 12.3     |\n",
      "|-----------------------------------------+----------------------+----------------------+\n",
      "| GPU  Name                 Persistence-M | Bus-Id        Disp.A | Volatile Uncorr. ECC |\n",
      "| Fan  Temp   Perf          Pwr:Usage/Cap |         Memory-Usage | GPU-Util  Compute M. |\n",
      "|                                         |                      |               MIG M. |\n",
      "|=========================================+======================+======================|\n",
      "|   0  Tesla T4                       On  | 00000000:D8:00.0 Off |                    0 |\n",
      "| N/A   31C    P8               9W /  70W |      2MiB / 15360MiB |      0%      Default |\n",
      "|                                         |                      |                  N/A |\n",
      "+-----------------------------------------+----------------------+----------------------+\n",
      "                                                                                         \n",
      "+---------------------------------------------------------------------------------------+\n",
      "| Processes:                                                                            |\n",
      "|  GPU   GI   CI        PID   Type   Process name                            GPU Memory |\n",
      "|        ID   ID                                                             Usage      |\n",
      "|=======================================================================================|\n",
      "|  No running processes found                                                           |\n",
      "+---------------------------------------------------------------------------------------+\n",
      "/work/van-speech-nlp/jindaznb/j-vis\n",
      "System Prefix: /work/van-speech-nlp/jenv\n",
      "HOME: /work/van-speech-nlp/jindaznb/j-vis\n",
      "2.0.0+cu117 True\n",
      "3.3.0\n",
      "11.7\n",
      "GCC 9.3\n"
     ]
    },
    {
     "ename": "AttributeError",
     "evalue": "module 'mmdet.apis' has no attribute 'init_random_seed'",
     "output_type": "error",
     "traceback": [
      "\u001b[0;31m---------------------------------------------------------------------------\u001b[0m",
      "\u001b[0;31mAttributeError\u001b[0m                            Traceback (most recent call last)",
      "Cell \u001b[0;32mIn[1], line 47\u001b[0m\n\u001b[1;32m     41\u001b[0m \u001b[38;5;66;03m# rf = Roboflow(api_key=\"a8fzziqukkQgsmGFnKgD\")\u001b[39;00m\n\u001b[1;32m     42\u001b[0m \u001b[38;5;66;03m# project = rf.workspace(\"wildfire2024\").project(\"forestfire2024\")\u001b[39;00m\n\u001b[1;32m     43\u001b[0m \u001b[38;5;66;03m# dataset = project.version(1).download(\"coco-mmdetection\")\u001b[39;00m\n\u001b[1;32m     45\u001b[0m \u001b[38;5;28;01mimport\u001b[39;00m \u001b[38;5;21;01msupervision\u001b[39;00m \u001b[38;5;28;01mas\u001b[39;00m \u001b[38;5;21;01msv\u001b[39;00m\n\u001b[0;32m---> 47\u001b[0m \u001b[43mmmdet\u001b[49m\u001b[38;5;241;43m.\u001b[39;49m\u001b[43mapis\u001b[49m\u001b[38;5;241;43m.\u001b[39;49m\u001b[43minit_random_seed\u001b[49m()\n",
      "\u001b[0;31mAttributeError\u001b[0m: module 'mmdet.apis' has no attribute 'init_random_seed'"
     ]
    }
   ],
   "source": [
    "import sys\n",
    "!nvcc -V\n",
    "!gcc --version\n",
    "!nvidia-smi\n",
    "!pwd\n",
    "system_prefix = sys.prefix\n",
    "print(f\"System Prefix: {system_prefix}\")\n",
    "\n",
    "import os\n",
    "HOME = os.getcwd()\n",
    "print(\"HOME:\", HOME)\n",
    "\n",
    "import os\n",
    "import json\n",
    "import random\n",
    "import glob\n",
    "\n",
    "\n",
    "import numpy as np\n",
    "\n",
    "from mmdet.apis import init_detector, inference_detector\n",
    "\n",
    "import torch, torchvision\n",
    "print(torch.__version__, torch.cuda.is_available())\n",
    "DEVICE = torch.device('cuda:0' if torch.cuda.is_available() else 'cpu')\n",
    "\n",
    "# Check MMDetection installation\n",
    "from mmengine.utils import get_git_hash\n",
    "from mmengine.utils.dl_utils import collect_env as collect_base_env\n",
    "\n",
    "import mmdet\n",
    "\n",
    "print(mmdet.__version__)\n",
    "\n",
    "# Check mmcv installation\n",
    "from mmcv.ops import get_compiling_cuda_version, get_compiler_version\n",
    "print(get_compiling_cuda_version())\n",
    "print(get_compiler_version())\n",
    "\n",
    "from roboflow import Roboflow\n",
    "# rf = Roboflow(api_key=\"a8fzziqukkQgsmGFnKgD\")\n",
    "# project = rf.workspace(\"wildfire2024\").project(\"forestfire2024\")\n",
    "# dataset = project.version(1).download(\"coco-mmdetection\")\n",
    "\n",
    "import supervision as sv\n",
    "\n",
    "\n"
   ]
  },
  {
   "cell_type": "markdown",
   "id": "04d0f608-a2d5-4c1c-84ae-993444aba0cf",
   "metadata": {},
   "source": [
    "# SET RANDOMNESS"
   ]
  },
  {
   "cell_type": "code",
   "execution_count": 8,
   "id": "3b707f3b-8a6b-4691-be1a-09dba989959d",
   "metadata": {
    "tags": []
   },
   "outputs": [
    {
     "ename": "ImportError",
     "evalue": "cannot import name 'set_random_seed' from 'mmdet.apis' (/work/van-speech-nlp/jindaznb/j-vis/mmdetection/mmdet/apis/__init__.py)",
     "output_type": "error",
     "traceback": [
      "\u001b[0;31m---------------------------------------------------------------------------\u001b[0m",
      "\u001b[0;31mImportError\u001b[0m                               Traceback (most recent call last)",
      "Cell \u001b[0;32mIn[8], line 20\u001b[0m\n\u001b[1;32m     17\u001b[0m \u001b[38;5;28;01mimport\u001b[39;00m \u001b[38;5;21;01mtensorflow\u001b[39;00m \u001b[38;5;28;01mas\u001b[39;00m \u001b[38;5;21;01mtf\u001b[39;00m\n\u001b[1;32m     18\u001b[0m tf\u001b[38;5;241m.\u001b[39mrandom\u001b[38;5;241m.\u001b[39mset_seed(seed_value)\n\u001b[0;32m---> 20\u001b[0m \u001b[38;5;28;01mfrom\u001b[39;00m \u001b[38;5;21;01mmmdet\u001b[39;00m\u001b[38;5;21;01m.\u001b[39;00m\u001b[38;5;21;01mapis\u001b[39;00m \u001b[38;5;28;01mimport\u001b[39;00m set_random_seed\n\u001b[1;32m     21\u001b[0m \u001b[38;5;28mprint\u001b[39m(\u001b[38;5;124m\"\u001b[39m\u001b[38;5;124mset seed successfully\u001b[39m\u001b[38;5;124m\"\u001b[39m)\n",
      "\u001b[0;31mImportError\u001b[0m: cannot import name 'set_random_seed' from 'mmdet.apis' (/work/van-speech-nlp/jindaznb/j-vis/mmdetection/mmdet/apis/__init__.py)"
     ]
    }
   ],
   "source": [
    "seed_value= 42 \n",
    "\n",
    "# 1. Set `PYTHONHASHSEED` environment variable at a fixed value\n",
    "import os\n",
    "os.environ['PYTHONHASHSEED']=str(seed_value)\n",
    "\n",
    "# 2. Set `python` built-in pseudo-random generator at a fixed value\n",
    "import random\n",
    "random.seed(seed_value)\n",
    "\n",
    "# 3. Set `numpy` pseudo-random generator at a fixed value\n",
    "import numpy as np\n",
    "np.random.seed(seed_value)\n",
    "dataset_location=f\"/work/van-speech-nlp/jindaznb/j-vis/Forestfire2024-1\"\n",
    "\n",
    "# # 4. Set `tensorflow` pseudo-random generator at a fixed value\n",
    "# import tensorflow as tf\n",
    "# tf.random.set_seed(seed_value)\n"
   ]
  },
  {
   "cell_type": "code",
   "execution_count": null,
   "id": "ab44cc23-9b56-4755-8f0c-fc38a843bf17",
   "metadata": {},
   "outputs": [],
   "source": [
    "param_space = {\n",
    "    'CONFIDENCE_THRESHOLD': np.linspace(0.1, 1.0, 20),  # Adjust the range as needed\n",
    "    'NMS_IOU_THRESHOLD': np.linspace(0.1, 1.0, 20),  # Adjust the range as needed\n",
    "}\n",
    "\n"
   ]
  },
  {
   "cell_type": "markdown",
   "id": "385e7045-4f39-46d5-8cbf-dea01a206f33",
   "metadata": {
    "tags": []
   },
   "source": [
    "# Bayesian OPTIM"
   ]
  },
  {
   "cell_type": "code",
   "execution_count": null,
   "id": "dc861cd8-c6ff-438b-875e-2a869761acbc",
   "metadata": {
    "tags": []
   },
   "outputs": [],
   "source": [
    "# def random_search_for_best_params(ds, param_space, model, num_samples=30):\n",
    "#     best_map = 0\n",
    "#     best_params = []\n",
    "\n",
    "#     for _ in range(num_samples):\n",
    "#         CONFIDENCE_THRESHOLD = np.random.choice(param_space['CONFIDENCE_THRESHOLD'])\n",
    "#         NMS_IOU_THRESHOLD = np.random.choice(param_space['NMS_IOU_THRESHOLD'])\n",
    "\n",
    "#         def callback(image: np.ndarray) -> sv.Detections:\n",
    "#             result = inference_detector(model, image)\n",
    "#             detections = sv.Detections.from_mmdetection(result)\n",
    "#             return detections[detections.confidence > CONFIDENCE_THRESHOLD].with_nms(threshold=NMS_IOU_THRESHOLD)\n",
    "\n",
    "#         mean_average_precision = sv.MeanAveragePrecision.benchmark(dataset=ds, callback=callback)\n",
    "\n",
    "#         if mean_average_precision.map50_95 > best_map:\n",
    "#             best_map = mean_average_precision.map50_95\n",
    "#             best_params = [CONFIDENCE_THRESHOLD, NMS_IOU_THRESHOLD]\n",
    "\n",
    "#     return best_map, best_params\n",
    "\n",
    "from bayes_opt import BayesianOptimization\n",
    "\n",
    "def optimize_params(ds, model, param_space, num_samples=30):\n",
    "    def objective_function(confidence_threshold, nms_iou_threshold):\n",
    "        def callback(image: np.ndarray) -> sv.Detections:\n",
    "            result = inference_detector(model, image)\n",
    "            detections = sv.Detections.from_mmdetection(result)\n",
    "            return detections[detections.confidence > confidence_threshold].with_nms(threshold=nms_iou_threshold)\n",
    "\n",
    "        mean_average_precision = sv.MeanAveragePrecision.benchmark(dataset=ds, callback=callback)\n",
    "        return mean_average_precision.map50_95\n",
    "\n",
    "    optimizer = BayesianOptimization(\n",
    "        f=objective_function,\n",
    "        pbounds={'confidence_threshold': (param_space['CONFIDENCE_THRESHOLD'][0], param_space['CONFIDENCE_THRESHOLD'][-1]),\n",
    "                 'nms_iou_threshold': (param_space['NMS_IOU_THRESHOLD'][0], param_space['NMS_IOU_THRESHOLD'][-1])},\n",
    "        random_state=42,  \n",
    "    )\n",
    "\n",
    "    optimizer.maximize(init_points=5, n_iter=num_samples - 5)  \n",
    "\n",
    "    best_params = [optimizer.max['params']['confidence_threshold'], optimizer.max['params']['nms_iou_threshold']]\n",
    "    best_map = optimizer.max['target']\n",
    "\n",
    "    return best_map, best_params"
   ]
  },
  {
   "cell_type": "code",
   "execution_count": null,
   "id": "5cc659f6-9094-40a3-b2db-c89c6e41d516",
   "metadata": {},
   "outputs": [],
   "source": [
    "def calculate_mAP_default(dataset_location: str, model_name: str, custom_config_path: str, device: str = 'cuda', confidence_threshold: float = 0.5, nms_iou_threshold: float = 0.5) -> float:\n",
    "    ds = sv.DetectionDataset.from_coco(\n",
    "        images_directory_path=f\"{dataset_location}/test\",\n",
    "        annotations_path=f\"{dataset_location}/test/_annotations.coco.json\",\n",
    "    )\n",
    "\n",
    "    images = list(ds.images.values())\n",
    "    custom_weights_path = glob.glob(f\"{HOME}/mmdetection/work_dirs/{model_name}/best_coco_bbox_mAP_50_epoch_*.pth\")[-1]\n",
    "    model = init_detector(custom_config_path, custom_weights_path, device=device)\n",
    "\n",
    "    def callback(image: np.ndarray) -> sv.Detections:\n",
    "        result = inference_detector(model, image)\n",
    "        detections = sv.Detections.from_mmdetection(result)\n",
    "        return detections[detections.confidence > confidence_threshold].with_nms(threshold=nms_iou_threshold)\n",
    "\n",
    "    mean_average_precision = sv.MeanAveragePrecision.benchmark(\n",
    "        dataset=ds,\n",
    "        callback=callback\n",
    "    )\n",
    "\n",
    "    return mean_average_precision.map50_95"
   ]
  }
 ],
 "metadata": {
  "kernelspec": {
   "display_name": "Python 3 (ipykernel)",
   "language": "python",
   "name": "python3"
  },
  "language_info": {
   "codemirror_mode": {
    "name": "ipython",
    "version": 3
   },
   "file_extension": ".py",
   "mimetype": "text/x-python",
   "name": "python",
   "nbconvert_exporter": "python",
   "pygments_lexer": "ipython3",
   "version": "3.10.13"
  }
 },
 "nbformat": 4,
 "nbformat_minor": 5
}
