{
 "cells": [
  {
   "cell_type": "code",
   "execution_count": 2,
   "id": "9234770e-6c42-45f5-9f34-29b0ce208824",
   "metadata": {},
   "outputs": [
    {
     "name": "stdout",
     "output_type": "stream",
     "text": [
      "2.0.0+cu117 True\n",
      "3.3.0\n",
      "11.7\n",
      "GCC 9.3\n"
     ]
    }
   ],
   "source": [
    "import sys\n",
    "!nvcc -V\n",
    "!gcc --version\n",
    "!nvidia-smi\n",
    "!pwd\n",
    "system_prefix = sys.prefix\n",
    "print(f\"System Prefix: {system_prefix}\")\n",
    "\n",
    "import os\n",
    "HOME = os.getcwd()\n",
    "print(\"HOME:\", HOME)\n",
    "\n",
    "import os\n",
    "import json\n",
    "import random\n",
    "import glob\n",
    "import numpy as np\n",
    "\n",
    "from mmdet.apis import init_detector, inference_detector\n",
    "\n",
    "import torch, torchvision\n",
    "print(torch.__version__, torch.cuda.is_available())\n",
    "DEVICE = torch.device('cuda:0' if torch.cuda.is_available() else 'cpu')\n",
    "\n",
    "# Check MMDetection installation\n",
    "from mmengine.utils import get_git_hash\n",
    "from mmengine.utils.dl_utils import collect_env as collect_base_env\n",
    "\n",
    "import mmdet\n",
    "\n",
    "print(mmdet.__version__)\n",
    "\n",
    "# Check mmcv installation\n",
    "from mmcv.ops import get_compiling_cuda_version, get_compiler_version\n",
    "print(get_compiling_cuda_version())\n",
    "print(get_compiler_version())\n",
    "\n",
    "from roboflow import Roboflow\n",
    "import supervision as sv"
   ]
  },
  {
   "cell_type": "markdown",
   "id": "837e83c1",
   "metadata": {},
   "source": [
    "# SET RANDOMNESS"
   ]
  },
  {
   "cell_type": "code",
   "execution_count": 2,
   "id": "67a77c77",
   "metadata": {
    "tags": []
   },
   "outputs": [],
   "source": [
    "\n",
    "def set_seed(seed_value):\n",
    "    os.environ['PYTHONHASHSEED'] = str(seed_value)\n",
    "    random.seed(seed_value)\n",
    "    np.random.seed(seed_value)\n",
    "    torch.manual_seed(seed_value)\n",
    "    if torch.cuda.is_available():\n",
    "        torch.cuda.manual_seed(seed_value)\n",
    "        torch.cuda.manual_seed_all(seed_value)\n",
    "        torch.backends.cudnn.deterministic = True\n",
    "        torch.backends.cudnn.benchmark = False\n",
    "\n",
    "seed_value = 42\n",
    "set_seed(seed_value)"
   ]
  },
  {
   "cell_type": "code",
   "execution_count": 3,
   "id": "8fda8af2",
   "metadata": {},
   "outputs": [],
   "source": [
    "param_space = {\n",
    "    'CONFIDENCE_THRESHOLD': np.linspace(0.1, 1.0, 20),  # Adjust the range as needed\n",
    "    'NMS_IOU_THRESHOLD': np.linspace(0.1, 1.0, 20),  # Adjust the range as needed\n",
    "}\n",
    "\n",
    "best_map = 0.0\n",
    "best_params = {}\n",
    "\n",
    "MAX_EPOCHS=500\n",
    "BATCH_SIZE=8\n",
    "PATIENCE=15\n",
    "max_keep_ckpts=10\n",
    "classes=('Alive Tree', 'Beetle-Fire Tree', 'Dead Tree', 'Debris')\n",
    "num_classes=len(classes)\n"
   ]
  },
  {
   "cell_type": "markdown",
   "id": "5a804c0b",
   "metadata": {
    "tags": []
   },
   "source": [
    "# Bayesian OPTIM"
   ]
  },
  {
   "cell_type": "code",
   "execution_count": 4,
   "id": "69c1f91d",
   "metadata": {
    "tags": []
   },
   "outputs": [],
   "source": [
    "# def random_search_for_best_params(ds, param_space, model, num_samples=30):\n",
    "#     best_map = 0\n",
    "#     best_params = []\n",
    "\n",
    "#     for _ in range(num_samples):\n",
    "#         CONFIDENCE_THRESHOLD = np.random.choice(param_space['CONFIDENCE_THRESHOLD'])\n",
    "#         NMS_IOU_THRESHOLD = np.random.choice(param_space['NMS_IOU_THRESHOLD'])\n",
    "\n",
    "#         def callback(image: np.ndarray) -> sv.Detections:\n",
    "#             result = inference_detector(model, image)\n",
    "#             detections = sv.Detections.from_mmdetection(result)\n",
    "#             return detections[detections.confidence > CONFIDENCE_THRESHOLD].with_nms(threshold=NMS_IOU_THRESHOLD)\n",
    "\n",
    "#         mean_average_precision = sv.MeanAveragePrecision.benchmark(dataset=ds, callback=callback)\n",
    "\n",
    "#         if mean_average_precision.map50_95 > best_map:\n",
    "#             best_map = mean_average_precision.map50_95\n",
    "#             best_params = [CONFIDENCE_THRESHOLD, NMS_IOU_THRESHOLD]\n",
    "\n",
    "#     return best_map, best_params\n",
    "\n",
    "from bayes_opt import BayesianOptimization\n",
    "\n",
    "def optimize_params(ds, model, param_space, num_samples=50):\n",
    "    def objective_function(confidence_threshold, nms_iou_threshold):\n",
    "        def callback(image: np.ndarray) -> sv.Detections:\n",
    "            result = inference_detector(model, image)\n",
    "            detections = sv.Detections.from_mmdetection(result)\n",
    "            return detections[detections.confidence > confidence_threshold].with_nms(threshold=nms_iou_threshold)\n",
    "\n",
    "        mean_average_precision = sv.MeanAveragePrecision.benchmark(dataset=ds, callback=callback)\n",
    "        return mean_average_precision.map50_95\n",
    "\n",
    "    optimizer = BayesianOptimization(\n",
    "        f=objective_function,\n",
    "        pbounds={'confidence_threshold': (param_space['CONFIDENCE_THRESHOLD'][0], param_space['CONFIDENCE_THRESHOLD'][-1]),\n",
    "                 'nms_iou_threshold': (param_space['NMS_IOU_THRESHOLD'][0], param_space['NMS_IOU_THRESHOLD'][-1])},\n",
    "        random_state=42,  \n",
    "    )\n",
    "\n",
    "    optimizer.maximize(init_points=5, n_iter=num_samples - 5)  \n",
    "\n",
    "    best_params = [optimizer.max['params']['confidence_threshold'], optimizer.max['params']['nms_iou_threshold']]\n",
    "    best_map = optimizer.max['target']\n",
    "\n",
    "    return best_map, best_params"
   ]
  },
  {
   "cell_type": "code",
   "execution_count": 5,
   "id": "f855d5fc",
   "metadata": {},
   "outputs": [],
   "source": [
    "def calculate_mAP_default(dataset_location: str, model_name: str, custom_config_path: str, device: str = 'cuda', confidence_threshold: float = 0.5, nms_iou_threshold: float = 0.5) -> float:\n",
    "    ds = sv.DetectionDataset.from_coco(\n",
    "        images_directory_path=f\"{dataset_location}/test\",\n",
    "        annotations_path=f\"{dataset_location}/test/_annotations.coco.json\",\n",
    "    )\n",
    "\n",
    "    images = list(ds.images.values())\n",
    "    custom_weights_path = glob.glob(f\"{HOME}/mmdetection/work_dirs/{model_name}/best_coco_bbox_mAP_50_epoch_*.pth\")[-1]\n",
    "    model = init_detector(custom_config_path, custom_weights_path, device=device)\n",
    "\n",
    "    def callback(image: np.ndarray) -> sv.Detections:\n",
    "        result = inference_detector(model, image)\n",
    "        detections = sv.Detections.from_mmdetection(result)\n",
    "        return detections[detections.confidence > confidence_threshold].with_nms(threshold=nms_iou_threshold)\n",
    "\n",
    "    mean_average_precision = sv.MeanAveragePrecision.benchmark(\n",
    "        dataset=ds,\n",
    "        callback=callback\n",
    "    )\n",
    "\n",
    "    return mean_average_precision.map50_95"
   ]
  }
 ],
 "metadata": {
  "kernelspec": {
   "display_name": "Python 3 (ipykernel)",
   "language": "python",
   "name": "python3"
  },
  "language_info": {
   "codemirror_mode": {
    "name": "ipython",
    "version": 3
   },
   "file_extension": ".py",
   "mimetype": "text/x-python",
   "name": "python",
   "nbconvert_exporter": "python",
   "pygments_lexer": "ipython3",
   "version": "3.9.19"
  }
 },
 "nbformat": 4,
 "nbformat_minor": 5
}
