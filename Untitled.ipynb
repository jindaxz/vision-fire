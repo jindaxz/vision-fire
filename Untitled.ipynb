{
 "cells": [
  {
   "cell_type": "code",
   "execution_count": 1,
   "id": "9e90cf35-646f-4ae7-af26-ae012f55e864",
   "metadata": {
    "tags": []
   },
   "outputs": [
    {
     "name": "stdout",
     "output_type": "stream",
     "text": [
      "nvcc: NVIDIA (R) Cuda compiler driver\n",
      "Copyright (c) 2005-2020 NVIDIA Corporation\n",
      "Built on Mon_Nov_30_19:08:53_PST_2020\n",
      "Cuda compilation tools, release 11.2, V11.2.67\n",
      "Build cuda_11.2.r11.2/compiler.29373293_0\n",
      "gcc (GCC) 4.8.5 20150623 (Red Hat 4.8.5-44)\n",
      "Copyright (C) 2015 Free Software Foundation, Inc.\n",
      "This is free software; see the source for copying conditions.  There is NO\n",
      "warranty; not even for MERCHANTABILITY or FITNESS FOR A PARTICULAR PURPOSE.\n",
      "\n",
      "Wed Feb 14 04:03:49 2024       \n",
      "+---------------------------------------------------------------------------------------+\n",
      "| NVIDIA-SMI 545.23.08              Driver Version: 545.23.08    CUDA Version: 12.3     |\n",
      "|-----------------------------------------+----------------------+----------------------+\n",
      "| GPU  Name                 Persistence-M | Bus-Id        Disp.A | Volatile Uncorr. ECC |\n",
      "| Fan  Temp   Perf          Pwr:Usage/Cap |         Memory-Usage | GPU-Util  Compute M. |\n",
      "|                                         |                      |               MIG M. |\n",
      "|=========================================+======================+======================|\n",
      "|   0  Tesla V100-SXM2-32GB           Off | 00000000:AF:00.0 Off |                    0 |\n",
      "| N/A   43C    P0              57W / 300W |      0MiB / 32768MiB |      0%      Default |\n",
      "|                                         |                      |                  N/A |\n",
      "+-----------------------------------------+----------------------+----------------------+\n",
      "                                                                                         \n",
      "+---------------------------------------------------------------------------------------+\n",
      "| Processes:                                                                            |\n",
      "|  GPU   GI   CI        PID   Type   Process name                            GPU Memory |\n",
      "|        ID   ID                                                             Usage      |\n",
      "|=======================================================================================|\n",
      "|  No running processes found                                                           |\n",
      "+---------------------------------------------------------------------------------------+\n",
      "/work/van-speech-nlp/jindaznb/j-vis\n",
      "System Prefix: /work/van-speech-nlp/jenv\n",
      "HOME: /work/van-speech-nlp/jindaznb/j-vis\n",
      "2.0.0+cu117 True\n",
      "3.3.0\n",
      "11.7\n",
      "GCC 9.3\n",
      "loading Roboflow workspace...\n",
      "loading Roboflow project...\n"
     ]
    },
    {
     "name": "stderr",
     "output_type": "stream",
     "text": [
      "Downloading Dataset Version Zip in Forestfire2024-1 to coco-mmdetection:: 100%|██████████| 151008/151008 [00:02<00:00, 56208.87it/s]\n"
     ]
    },
    {
     "name": "stdout",
     "output_type": "stream",
     "text": [
      "\n"
     ]
    },
    {
     "name": "stderr",
     "output_type": "stream",
     "text": [
      "Extracting Dataset Version Zip to Forestfire2024-1 in coco-mmdetection:: 100%|██████████| 681/681 [00:06<00:00, 104.29it/s]\n"
     ]
    },
    {
     "name": "stdout",
     "output_type": "stream",
     "text": [
      "dataset classes: ['Alive Tree', 'Beetle-Fire Tree', 'Dead Tree', 'Debris']\n",
      "dataset size: 471\n",
      "dataset classes: ['Alive Tree', 'Beetle-Fire Tree', 'Dead Tree', 'Debris']\n",
      "dataset size: 67\n"
     ]
    }
   ],
   "source": [
    "%run 1-0mmyolo-common.ipynb"
   ]
  },
  {
   "cell_type": "code",
   "execution_count": 1,
   "id": "dbe964cd-0ba9-4b50-8a65-808997948861",
   "metadata": {},
   "outputs": [
    {
     "name": "stdout",
     "output_type": "stream",
     "text": [
      "\u001b[33mWARNING: Ignoring invalid distribution -illow (/work/van-speech-nlp/jenv/lib/python3.10/site-packages)\u001b[0m\u001b[33m\n",
      "\u001b[0m\u001b[33mWARNING: Ignoring invalid distribution -mdet (/work/van-speech-nlp/jenv/lib/python3.10/site-packages)\u001b[0m\u001b[33m\n",
      "\u001b[0m\u001b[33mWARNING: Ignoring invalid distribution -rotobuf (/work/van-speech-nlp/jenv/lib/python3.10/site-packages)\u001b[0m\u001b[33m\n",
      "\u001b[0m\u001b[33mWARNING: Ignoring invalid distribution -vidia-nvjitlink-cu12 (/work/van-speech-nlp/jenv/lib/python3.10/site-packages)\u001b[0m\u001b[33m\n",
      "\u001b[0mCollecting mmcls\n",
      "  Downloading mmcls-0.25.0-py2.py3-none-any.whl (648 kB)\n",
      "\u001b[2K     \u001b[90m━━━━━━━━━━━━━━━━━━━━━━━━━━━━━━━━━━━━━━━\u001b[0m \u001b[32m648.8/648.8 kB\u001b[0m \u001b[31m8.1 MB/s\u001b[0m eta \u001b[36m0:00:00\u001b[0m00:01\u001b[0m00:01\u001b[0m\n",
      "\u001b[?25hRequirement already satisfied: matplotlib>=3.1.0 in /work/van-speech-nlp/jenv/lib/python3.10/site-packages (from mmcls) (3.7.2)\n",
      "Requirement already satisfied: numpy in /work/van-speech-nlp/jenv/lib/python3.10/site-packages (from mmcls) (1.23.5)\n",
      "Requirement already satisfied: packaging in /work/van-speech-nlp/jenv/lib/python3.10/site-packages (from mmcls) (23.2)\n",
      "Requirement already satisfied: contourpy>=1.0.1 in /work/van-speech-nlp/jenv/lib/python3.10/site-packages (from matplotlib>=3.1.0->mmcls) (1.0.5)\n",
      "Requirement already satisfied: cycler>=0.10 in /work/van-speech-nlp/jenv/lib/python3.10/site-packages (from matplotlib>=3.1.0->mmcls) (0.10.0)\n",
      "Requirement already satisfied: fonttools>=4.22.0 in /work/van-speech-nlp/jenv/lib/python3.10/site-packages (from matplotlib>=3.1.0->mmcls) (4.25.0)\n",
      "Requirement already satisfied: kiwisolver>=1.0.1 in /work/van-speech-nlp/jenv/lib/python3.10/site-packages (from matplotlib>=3.1.0->mmcls) (1.4.4)\n",
      "Requirement already satisfied: pillow>=6.2.0 in /work/van-speech-nlp/jenv/lib/python3.10/site-packages (from matplotlib>=3.1.0->mmcls) (10.2.0)\n",
      "Requirement already satisfied: pyparsing<3.1,>=2.3.1 in /work/van-speech-nlp/jenv/lib/python3.10/site-packages (from matplotlib>=3.1.0->mmcls) (3.0.9)\n",
      "Requirement already satisfied: python-dateutil>=2.7 in /work/van-speech-nlp/jenv/lib/python3.10/site-packages (from matplotlib>=3.1.0->mmcls) (2.8.2)\n",
      "Requirement already satisfied: six in /work/van-speech-nlp/jenv/lib/python3.10/site-packages (from cycler>=0.10->matplotlib>=3.1.0->mmcls) (1.16.0)\n",
      "\u001b[33mWARNING: Ignoring invalid distribution -illow (/work/van-speech-nlp/jenv/lib/python3.10/site-packages)\u001b[0m\u001b[33m\n",
      "\u001b[0m\u001b[33mWARNING: Ignoring invalid distribution -mdet (/work/van-speech-nlp/jenv/lib/python3.10/site-packages)\u001b[0m\u001b[33m\n",
      "\u001b[0m\u001b[33mWARNING: Ignoring invalid distribution -rotobuf (/work/van-speech-nlp/jenv/lib/python3.10/site-packages)\u001b[0m\u001b[33m\n",
      "\u001b[0m\u001b[33mWARNING: Ignoring invalid distribution -vidia-nvjitlink-cu12 (/work/van-speech-nlp/jenv/lib/python3.10/site-packages)\u001b[0m\u001b[33m\n",
      "\u001b[0mInstalling collected packages: mmcls\n",
      "Successfully installed mmcls-0.25.0\n"
     ]
    }
   ],
   "source": [
    "!pip install mmcls"
   ]
  },
  {
   "cell_type": "code",
   "execution_count": 2,
   "id": "120f4e43-8483-487c-9c2a-ba0d6904b17a",
   "metadata": {},
   "outputs": [
    {
     "data": {
      "text/plain": [
       "'/work/van-speech-nlp/jindaznb/j-vis'"
      ]
     },
     "execution_count": 2,
     "metadata": {},
     "output_type": "execute_result"
    }
   ],
   "source": [
    "pwd"
   ]
  },
  {
   "cell_type": "code",
   "execution_count": 3,
   "id": "9a3e2f1e-2840-46e1-87b2-a31cbe90751e",
   "metadata": {
    "tags": []
   },
   "outputs": [
    {
     "name": "stdout",
     "output_type": "stream",
     "text": [
      "/work/van-speech-nlp/jindaznb/j-vis/Forestfire2024-1/train\n"
     ]
    }
   ],
   "source": [
    "cd Forestfire2024-1/train"
   ]
  },
  {
   "cell_type": "code",
   "execution_count": 5,
   "id": "2191f898-02ff-4927-9930-ea4832b255bf",
   "metadata": {
    "tags": []
   },
   "outputs": [
    {
     "name": "stdout",
     "output_type": "stream",
     "text": [
      "RGB\n"
     ]
    }
   ],
   "source": [
    "from PIL import Image\n",
    "\n",
    "img = Image.open(\"0YebmVr8QYj_jpg.rf.08cede448a44369c10160b8e2c15206e.jpg\")\n",
    "print(img.mode) "
   ]
  },
  {
   "cell_type": "code",
   "execution_count": 6,
   "id": "02fcf099-26b4-4a85-83bf-29111ad7918c",
   "metadata": {
    "tags": []
   },
   "outputs": [],
   "source": [
    "from PIL import Image\n",
    "\n",
    "# 打开图像\n",
    "img = Image.open(\"0YebmVr8QYj_jpg.rf.08cede448a44369c10160b8e2c15206e.jpg\")\n",
    "\n",
    "# 转换为 YUV 色彩空间\n",
    "img_yuv = img.convert(\"YCbCr\")\n",
    "\n",
    "# 保存为 RESULT.JPG\n",
    "img_yuv.save(\"RESULT.JPG\")"
   ]
  },
  {
   "cell_type": "code",
   "execution_count": 8,
   "id": "2c448826-abe2-4256-b052-41bec5e83066",
   "metadata": {
    "tags": []
   },
   "outputs": [],
   "source": [
    "rm RESULT.JPG"
   ]
  },
  {
   "cell_type": "code",
   "execution_count": 7,
   "id": "1d4d6609-ace8-4ec0-ad65-dea65801359c",
   "metadata": {
    "tags": []
   },
   "outputs": [
    {
     "name": "stdout",
     "output_type": "stream",
     "text": [
      "RGB\n"
     ]
    }
   ],
   "source": [
    "from PIL import Image\n",
    "\n",
    "img = Image.open(\"RESULT.JPG\")\n",
    "print(img.mode) "
   ]
  },
  {
   "cell_type": "code",
   "execution_count": 9,
   "id": "1da8ef23-c432-469c-9988-4101e161c832",
   "metadata": {
    "tags": []
   },
   "outputs": [
    {
     "data": {
      "text/plain": [
       "True"
      ]
     },
     "execution_count": 9,
     "metadata": {},
     "output_type": "execute_result"
    }
   ],
   "source": [
    "import cv2\n",
    "\n",
    "# 读取JPEG图像\n",
    "image = cv2.imread(\"0YebmVr8QYj_jpg.rf.08cede448a44369c10160b8e2c15206e.jpg\")\n",
    "\n",
    "# 将图像转换为YUV色彩空间\n",
    "yuv_image = cv2.cvtColor(image, cv2.COLOR_BGR2YUV)\n",
    "\n",
    "# 保存YUV图像\n",
    "cv2.imwrite('image_yuv.jpg', yuv_image)"
   ]
  },
  {
   "cell_type": "code",
   "execution_count": 10,
   "id": "7f2557ca-054b-43b8-a408-dede5de05d8d",
   "metadata": {
    "tags": []
   },
   "outputs": [
    {
     "name": "stdout",
     "output_type": "stream",
     "text": [
      "RGB\n"
     ]
    }
   ],
   "source": [
    "from PIL import Image\n",
    "\n",
    "img = Image.open(\"image_yuv.jpg\")\n",
    "print(img.mode) "
   ]
  },
  {
   "cell_type": "code",
   "execution_count": 11,
   "id": "26023713-140f-4b92-95b9-afa2ebe445d8",
   "metadata": {
    "tags": []
   },
   "outputs": [
    {
     "name": "stdout",
     "output_type": "stream",
     "text": [
      "YUV Image Shape: (1024, 1024, 3)\n",
      "YUV Image Type: uint8\n",
      "Current Color Space Type: [[[149 159 134]\n",
      "  [149 159 134]\n",
      "  [138 146 122]\n",
      "  ...\n",
      "  [200 194 180]\n",
      "  [189 183 167]\n",
      "  [186 180 164]]\n",
      "\n",
      " [[156 166 141]\n",
      "  [148 158 133]\n",
      "  [137 145 121]\n",
      "  ...\n",
      "  [195 189 175]\n",
      "  [199 193 177]\n",
      "  [203 197 181]]\n",
      "\n",
      " [[160 170 145]\n",
      "  [147 157 132]\n",
      "  [135 144 117]\n",
      "  ...\n",
      "  [189 186 171]\n",
      "  [205 199 185]\n",
      "  [213 207 193]]\n",
      "\n",
      " ...\n",
      "\n",
      " [[197 205 164]\n",
      "  [186 194 153]\n",
      "  [183 191 150]\n",
      "  ...\n",
      "  [149 153 130]\n",
      "  [143 147 124]\n",
      "  [124 128 105]]\n",
      "\n",
      " [[200 209 166]\n",
      "  [198 207 162]\n",
      "  [197 206 161]\n",
      "  ...\n",
      "  [145 150 127]\n",
      "  [141 145 122]\n",
      "  [123 127 104]]\n",
      "\n",
      " [[209 218 173]\n",
      "  [209 218 173]\n",
      "  [205 214 167]\n",
      "  ...\n",
      "  [142 147 124]\n",
      "  [137 141 118]\n",
      "  [118 122  99]]]\n"
     ]
    }
   ],
   "source": [
    "# 打印转换后图像的形状和类型\n",
    "print(\"YUV Image Shape:\", yuv_image.shape)\n",
    "print(\"YUV Image Type:\", yuv_image.dtype)\n",
    "\n",
    "# 获取当前图像的颜色空间类型\n",
    "color_space_type = cv2.cvtColor(image, cv2.COLOR_BGR2RGB)\n",
    "print(\"Current Color Space Type:\", color_space_type)"
   ]
  },
  {
   "cell_type": "code",
   "execution_count": 12,
   "id": "d9018c84-04a0-4a05-b66a-375623b408d3",
   "metadata": {
    "tags": []
   },
   "outputs": [],
   "source": [
    "rm image_yuv.jpg"
   ]
  },
  {
   "cell_type": "code",
   "execution_count": 13,
   "id": "31e88a3a-1bd9-4da0-a6d0-f48f2c80e525",
   "metadata": {
    "tags": []
   },
   "outputs": [
    {
     "name": "stdout",
     "output_type": "stream",
     "text": [
      "/work/van-speech-nlp/jindaznb/j-vis/Forestfire2024-1\n"
     ]
    }
   ],
   "source": [
    "cd .."
   ]
  },
  {
   "cell_type": "code",
   "execution_count": 14,
   "id": "fbf771f8-c6ef-4d9d-a507-ac2f39c3c7f7",
   "metadata": {
    "tags": []
   },
   "outputs": [
    {
     "name": "stdout",
     "output_type": "stream",
     "text": [
      "/work/van-speech-nlp/jindaznb/j-vis\n"
     ]
    }
   ],
   "source": [
    "cd .."
   ]
  },
  {
   "cell_type": "code",
   "execution_count": null,
   "id": "4db703ac-f0d0-4572-bb4a-e7c9157ac4b9",
   "metadata": {},
   "outputs": [],
   "source": [
    "cp -r Forestfire2024-1 Forestfire2024-1-copy"
   ]
  },
  {
   "cell_type": "code",
   "execution_count": 1,
   "id": "1c204443-3854-4c0b-961c-1b6503779b4b",
   "metadata": {
    "tags": []
   },
   "outputs": [
    {
     "name": "stdout",
     "output_type": "stream",
     "text": [
      "\n"
     ]
    }
   ],
   "source": [
    "print()"
   ]
  },
  {
   "cell_type": "code",
   "execution_count": 1,
   "id": "06ef61c3-6e48-4773-ad65-4c9c5e5823dc",
   "metadata": {
    "tags": []
   },
   "outputs": [],
   "source": [
    "rm -rf ForestFire2023-5"
   ]
  },
  {
   "cell_type": "code",
   "execution_count": 2,
   "id": "44b24ed9-a911-417b-971e-00d504daca12",
   "metadata": {
    "tags": []
   },
   "outputs": [],
   "source": [
    "rm -rf __MACOSX"
   ]
  },
  {
   "cell_type": "code",
   "execution_count": 3,
   "id": "c29a6732-ad08-4bd8-bc99-d3573042f39c",
   "metadata": {
    "tags": []
   },
   "outputs": [],
   "source": [
    "rm -rf lightning_logs"
   ]
  },
  {
   "cell_type": "code",
   "execution_count": 4,
   "id": "2618e875-3c54-4f44-9050-ef624d49cd11",
   "metadata": {
    "tags": []
   },
   "outputs": [],
   "source": [
    "rm -rf GroundingDINO"
   ]
  },
  {
   "cell_type": "code",
   "execution_count": 1,
   "id": "d1322a82-1f62-4d98-9e3d-520d37821fff",
   "metadata": {
    "tags": []
   },
   "outputs": [
    {
     "ename": "ImportError",
     "evalue": "cannot import name 'set_random_seed' from 'mmdet.apis' (/work/van-speech-nlp/jindaznb/j-vis/mmdetection/mmdet/apis/__init__.py)",
     "output_type": "error",
     "traceback": [
      "\u001b[0;31m---------------------------------------------------------------------------\u001b[0m",
      "\u001b[0;31mImportError\u001b[0m                               Traceback (most recent call last)",
      "Cell \u001b[0;32mIn[1], line 1\u001b[0m\n\u001b[0;32m----> 1\u001b[0m \u001b[38;5;28;01mfrom\u001b[39;00m \u001b[38;5;21;01mmmdet\u001b[39;00m\u001b[38;5;21;01m.\u001b[39;00m\u001b[38;5;21;01mapis\u001b[39;00m \u001b[38;5;28;01mimport\u001b[39;00m set_random_seed\n\u001b[1;32m      3\u001b[0m \u001b[38;5;66;03m# 设置随机种子\u001b[39;00m\n\u001b[1;32m      4\u001b[0m seed \u001b[38;5;241m=\u001b[39m \u001b[38;5;241m42\u001b[39m\n",
      "\u001b[0;31mImportError\u001b[0m: cannot import name 'set_random_seed' from 'mmdet.apis' (/work/van-speech-nlp/jindaznb/j-vis/mmdetection/mmdet/apis/__init__.py)"
     ]
    }
   ],
   "source": [
    "from mmdet.apis import set_random_seed\n",
    "\n",
    "# 设置随机种子\n",
    "seed = 42\n",
    "set_random_seed(seed, deterministic=False)\n"
   ]
  },
  {
   "cell_type": "code",
   "execution_count": 2,
   "id": "727b3314-eca8-48dc-9963-fc34e804c08d",
   "metadata": {
    "tags": []
   },
   "outputs": [
    {
     "name": "stdout",
     "output_type": "stream",
     "text": [
      "\u001b[33mWARNING: Ignoring invalid distribution -illow (/work/van-speech-nlp/jenv/lib/python3.10/site-packages)\u001b[0m\u001b[33m\n",
      "\u001b[0m\u001b[33mWARNING: Ignoring invalid distribution -mdet (/work/van-speech-nlp/jenv/lib/python3.10/site-packages)\u001b[0m\u001b[33m\n",
      "\u001b[0m\u001b[33mWARNING: Ignoring invalid distribution -rotobuf (/work/van-speech-nlp/jenv/lib/python3.10/site-packages)\u001b[0m\u001b[33m\n",
      "\u001b[0m\u001b[33mWARNING: Ignoring invalid distribution -vidia-nvjitlink-cu12 (/work/van-speech-nlp/jenv/lib/python3.10/site-packages)\u001b[0m\u001b[33m\n",
      "\u001b[0mName: mmdet\n",
      "Version: 3.3.0\n",
      "Summary: OpenMMLab Detection Toolbox and Benchmark\n",
      "Home-page: https://github.com/open-mmlab/mmdetection\n",
      "Author: MMDetection Contributors\n",
      "Author-email: openmmlab@gmail.com\n",
      "License: Apache License 2.0\n",
      "Location: /work/van-speech-nlp/jindaznb/j-vis/mmdetection\n",
      "Editable project location: /work/van-speech-nlp/jindaznb/j-vis/mmdetection\n",
      "Requires: matplotlib, numpy, pycocotools, scipy, shapely, six, terminaltables, tqdm\n",
      "Required-by: \n",
      "Note: you may need to restart the kernel to use updated packages.\n"
     ]
    }
   ],
   "source": [
    "pip show mmdet"
   ]
  },
  {
   "cell_type": "code",
   "execution_count": 3,
   "id": "cf4ede5b-597f-43bd-9c2c-4aeb9563e61e",
   "metadata": {
    "tags": []
   },
   "outputs": [
    {
     "name": "stdout",
     "output_type": "stream",
     "text": [
      "\n"
     ]
    }
   ],
   "source": [
    "print()"
   ]
  },
  {
   "cell_type": "code",
   "execution_count": null,
   "id": "08f93420-5d8f-4a15-9d87-00ca78ba2014",
   "metadata": {},
   "outputs": [],
   "source": []
  }
 ],
 "metadata": {
  "kernelspec": {
   "display_name": "Python 3 (ipykernel)",
   "language": "python",
   "name": "python3"
  },
  "language_info": {
   "codemirror_mode": {
    "name": "ipython",
    "version": 3
   },
   "file_extension": ".py",
   "mimetype": "text/x-python",
   "name": "python",
   "nbconvert_exporter": "python",
   "pygments_lexer": "ipython3",
   "version": "3.10.13"
  }
 },
 "nbformat": 4,
 "nbformat_minor": 5
}
