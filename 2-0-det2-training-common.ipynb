{
 "cells": [
  {
   "cell_type": "code",
   "execution_count": 1,
   "id": "11ea01d1",
   "metadata": {},
   "outputs": [
    {
     "name": "stdout",
     "output_type": "stream",
     "text": [
      "gcc (GCC) 4.8.5 20150623 (Red Hat 4.8.5-44)\n",
      "Copyright (C) 2015 Free Software Foundation, Inc.\n",
      "This is free software; see the source for copying conditions.  There is NO\n",
      "warranty; not even for MERCHANTABILITY or FITNESS FOR A PARTICULAR PURPOSE.\n",
      "\n",
      "/work/van-speech-nlp/det2env\n",
      "HOME: /work/van-speech-nlp/jindaznb/j-vis\n"
     ]
    }
   ],
   "source": [
    "!nvidia-smi\n",
    "import sys\n",
    "print(sys.prefix)\n",
    "import os\n",
    "HOME = os.getcwd()\n",
    "print(\"HOME:\", HOME)"
   ]
  },
  {
   "cell_type": "code",
   "execution_count": 2,
   "id": "aed8f9e6-5389-4aaa-8a21-bc1af65e2ec9",
   "metadata": {},
   "outputs": [],
   "source": [
    "# %cd detectron2\n",
    "# !python -m pip uninstall ."
   ]
  },
  {
   "cell_type": "code",
   "execution_count": 3,
   "id": "d016c5fa",
   "metadata": {},
   "outputs": [
    {
     "name": "stdout",
     "output_type": "stream",
     "text": [
      "\u001b[31mERROR: Directory '.' is not installable. Neither 'setup.py' nor 'pyproject.toml' found.\u001b[0m\u001b[31m\n",
      "\u001b[0m"
     ]
    }
   ],
   "source": [
    "# # install detectron2:\n",
    "# !python -m pip install 'git+https://github.com/facebookresearch/detectron2.git'\n",
    "# # !pip install google-colab\n",
    "# !python -m pip uninstall .\n",
    "# # install dependencies: (use cu101 because colab has CUDA 10.1)\n",
    "# !pip install -U torch==1.5 torchvision==0.6 -f https://download.pytorch.org/whl/cu101/torch_stable.html \n",
    "# !pip install cython pyyaml==5.1\n",
    "# !pip install -U 'git+https://github.com/cocodataset/cocoapi.git#subdirectory=PythonAPI'\n",
    "\n",
    "# !pip install torch\n",
    "# !pwd\n",
    "# !pip install --upgrade torch torchvision\n",
    "# !pip3 install torch torchvision torchaudio\n",
    "\n",
    "# !rm -rf detectron2\n",
    "# !git clone https://github.com/facebookresearch/detectron2.git\n",
    "# !python -m pip install -e detectron2"
   ]
  },
  {
   "cell_type": "code",
   "execution_count": 4,
   "id": "5bf590bc",
   "metadata": {},
   "outputs": [
    {
     "name": "stdout",
     "output_type": "stream",
     "text": [
      "2.1.2+cu121 True\n",
      "gcc (GCC) 4.8.5 20150623 (Red Hat 4.8.5-44)\n",
      "Copyright (C) 2015 Free Software Foundation, Inc.\n",
      "This is free software; see the source for copying conditions.  There is NO\n",
      "warranty; not even for MERCHANTABILITY or FITNESS FOR A PARTICULAR PURPOSE.\n",
      "\n"
     ]
    },
    {
     "data": {
      "text/plain": [
       "<Logger detectron2 (DEBUG)>"
      ]
     },
     "execution_count": 4,
     "metadata": {},
     "output_type": "execute_result"
    }
   ],
   "source": [
    "# !pip install Pillow==9.5.0\n",
    "# install dependencies: (use cu101 because colab has CUDA 10.1)\n",
    "# !pip install cython pyyaml==5.1\n",
    "# change pytorch version\n",
    "# !pip install torch==1.9.0+cu111 torchvision==0.10.0+cu111 -f https://download.pytorch.org/whl/torch_stable.html\n",
    "# !pip install -U 'git+https://github.com/cocodataset/cocoapi.git#subdirectory=PythonAPI'\n",
    "import torch, torchvision\n",
    "print(torch.__version__, torch.cuda.is_available())\n",
    "!gcc --version\n",
    "# import some common libraries\n",
    "import numpy as np\n",
    "import cv2\n",
    "import random\n",
    "# from google.colab.patches import cv2_imshow\n",
    "# import some common detectron2 utilities\n",
    "\n",
    "from detectron2 import model_zoo\n",
    "from detectron2.engine import DefaultPredictor\n",
    "from detectron2.config import get_cfg\n",
    "from detectron2.utils.visualizer import Visualizer\n",
    "from detectron2.data import MetadataCatalog\n",
    "from detectron2.data.catalog import DatasetCatalog\n",
    "from detectron2.utils.logger import setup_logger\n",
    "setup_logger()"
   ]
  },
  {
   "cell_type": "code",
   "execution_count": 5,
   "id": "8c3ac280",
   "metadata": {},
   "outputs": [],
   "source": [
    "# !pip install roboflow\n",
    "\n",
    "# from roboflow import Roboflow\n",
    "# rf = Roboflow(api_key=\"a8fzziqukkQgsmGFnKgD\")\n",
    "# project = rf.workspace(\"forest-fire\").project(\"forestfire2023\")\n",
    "# dataset = project.version(5).download(\"coco-mmdetection\")\n",
    "# !pip install roboflow\n",
    "\n",
    "# from roboflow import Roboflow\n",
    "# rf = Roboflow(api_key=\"a8fzziqukkQgsmGFnKgD\")\n",
    "# project = rf.workspace(\"wildfire2024\").project(\"forestfire2024\")\n",
    "# dataset = project.version(8).download(\"coco-mmdetection\")\n",
    "\n",
    "# from roboflow import Roboflow\n",
    "# rf = Roboflow(api_key=\"a8fzziqukkQgsmGFnKgD\")\n",
    "# project = rf.workspace(\"wildfire2024\").project(\"forestfire2024\")\n",
    "# dataset = project.version(2).download(\"coco-mmdetection\")\n"
   ]
  },
  {
   "cell_type": "code",
   "execution_count": 6,
   "id": "6cf11627",
   "metadata": {},
   "outputs": [],
   "source": [
    "from detectron2.data.datasets import register_coco_instances\n",
    "register_coco_instances(\"my_dataset_train\", {}, f\"{HOME}/Forestfire2024-1/train/_annotations.coco.json\", f\"{HOME}/Forestfire2024-1/train\")\n",
    "register_coco_instances(\"my_dataset_val\", {}, f\"{HOME}/Forestfire2024-1/valid/_annotations.coco.json\", f\"{HOME}/Forestfire2024-1/valid\")\n",
    "register_coco_instances(\"my_dataset_test\", {}, f\"{HOME}/Forestfire2024-1/test/_annotations.coco.json\", f\"{HOME}/Forestfire2024-1/test\")\n",
    "\n",
    "# register_coco_instances(\"my_dataset_train\", {}, f\"{HOME}/ForestFire2024-5/train/_annotations.coco.json\", f\"{HOME}/ForestFire2023-5/train\")\n",
    "# register_coco_instances(\"my_dataset_val\", {}, f\"{HOME}/ForestFire2023-5/valid/_annotations.coco.json\", f\"{HOME}/ForestFire2023-5/valid\")\n",
    "# register_coco_instances(\"my_dataset_test\", {}, f\"{HOME}/ForestFire2023-5/test/_annotations.coco.json\", f\"{HOME}/ForestFire2023-5/test\")"
   ]
  },
  {
   "cell_type": "markdown",
   "id": "b02a8b66",
   "metadata": {},
   "source": [
    "# check register right version of dataset"
   ]
  },
  {
   "cell_type": "code",
   "execution_count": 7,
   "id": "6cbd9caa",
   "metadata": {},
   "outputs": [
    {
     "name": "stdout",
     "output_type": "stream",
     "text": [
      "\u001b[32m[02/09 01:31:57 d2.data.datasets.coco]: \u001b[0mLoaded 471 images in COCO format from /work/van-speech-nlp/jindaznb/j-vis/Forestfire2024-1/train/_annotations.coco.json\n"
     ]
    }
   ],
   "source": [
    "#visualize training data\n",
    "my_dataset_train_metadata = MetadataCatalog.get(\"my_dataset_train\")\n",
    "dataset_dicts = DatasetCatalog.get(\"my_dataset_train\")"
   ]
  },
  {
   "cell_type": "code",
   "execution_count": 8,
   "id": "a6c2ee00",
   "metadata": {},
   "outputs": [],
   "source": [
    "#We are importing our own Trainer Module here to use the COCO validation evaluation during training. Otherwise no validation eval occurs.\n",
    "from detectron2.engine import DefaultTrainer\n",
    "from detectron2.evaluation import COCOEvaluator\n",
    "\n",
    "class CocoTrainer(DefaultTrainer):\n",
    "  @classmethod\n",
    "  def build_evaluator(cls, cfg, dataset_name, output_folder=None):\n",
    "    if output_folder is None:\n",
    "        os.makedirs(\"coco_eval\", exist_ok=True)\n",
    "        output_folder = \"coco_eval\"\n",
    "\n",
    "    return COCOEvaluator(dataset_name, cfg, False, output_folder)"
   ]
  }
 ],
 "metadata": {
  "kernelspec": {
   "display_name": "Python 3 (ipykernel)",
   "language": "python",
   "name": "python3"
  },
  "language_info": {
   "codemirror_mode": {
    "name": "ipython",
    "version": 3
   },
   "file_extension": ".py",
   "mimetype": "text/x-python",
   "name": "python",
   "nbconvert_exporter": "python",
   "pygments_lexer": "ipython3",
   "version": "3.10.13"
  }
 },
 "nbformat": 4,
 "nbformat_minor": 5
}
